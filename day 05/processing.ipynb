{
    "cells": [
        {
            "attachments": {},
            "cell_type": "markdown",
            "metadata": {},
            "source": [
                "# Init stuffs"
            ]
        },
        {
            "attachments": {},
            "cell_type": "markdown",
            "metadata": {},
            "source": [
                "### Imports"
            ]
        },
        {
            "cell_type": "code",
            "execution_count": 2,
            "metadata": {},
            "outputs": [],
            "source": [
                "import re"
            ]
        },
        {
            "attachments": {},
            "cell_type": "markdown",
            "metadata": {},
            "source": [
                "### Input data"
            ]
        },
        {
            "cell_type": "code",
            "execution_count": 3,
            "metadata": {},
            "outputs": [],
            "source": [
                "filename = \"./input_1.txt\"\n",
                "\n",
                "with open(file=filename) as f:\n",
                "    input_data_pt1 = f.read().splitlines()"
            ]
        },
        {
            "attachments": {},
            "cell_type": "markdown",
            "metadata": {},
            "source": [
                "# Pt. 1"
            ]
        },
        {
            "cell_type": "code",
            "execution_count": 16,
            "metadata": {},
            "outputs": [],
            "source": [
                "seeds = [int(m) for m in re.findall(pattern=r\"(\\d+)\", string=input_data_pt1[0])]"
            ]
        },
        {
            "cell_type": "code",
            "execution_count": 20,
            "metadata": {},
            "outputs": [],
            "source": [
                "def extract_map(start_line: int, end_line: int) -> list:\n",
                "    mapping = []\n",
                "    for line in input_data_pt1[start_line - 1 : end_line]:\n",
                "        mapping.append([int(m) for m in re.findall(pattern=r\"(\\d+)\", string=line)])\n",
                "    return mapping\n",
                "\n",
                "\n",
                "sts_map = extract_map(start_line=4, end_line=50)\n",
                "stf_map = extract_map(start_line=53, end_line=84)\n",
                "ftw_map = extract_map(start_line=87, end_line=96)\n",
                "wtl_map = extract_map(start_line=99, end_line=124)\n",
                "ltt_map = extract_map(start_line=127, end_line=152)\n",
                "tth_map = extract_map(start_line=155, end_line=194)\n",
                "htl_map = extract_map(start_line=197, end_line=237)\n",
                "\n",
                "all_maps = [sts_map, stf_map, ftw_map, wtl_map, ltt_map, tth_map, htl_map]"
            ]
        },
        {
            "cell_type": "code",
            "execution_count": 21,
            "metadata": {},
            "outputs": [],
            "source": [
                "def traverse_maps(seed: int) -> int:\n",
                "    current_value = seed\n",
                "    for map in all_maps:\n",
                "        for value_range in map:\n",
                "            if value_range[1] <= current_value <= value_range[1]+value_range[2]-1:\n",
                "                current_value += value_range[0]-value_range[1]\n",
                "                break\n",
                "            else:\n",
                "                continue\n",
                "    return current_value"
            ]
        },
        {
            "cell_type": "code",
            "execution_count": 25,
            "metadata": {},
            "outputs": [
                {
                    "data": {
                        "text/plain": [
                            "251346198"
                        ]
                    },
                    "execution_count": 25,
                    "metadata": {},
                    "output_type": "execute_result"
                }
            ],
            "source": [
                "min([traverse_maps(seed=seed) for seed in seeds])"
            ]
        },
        {
            "attachments": {},
            "cell_type": "markdown",
            "metadata": {},
            "source": [
                "# Init pt. 2"
            ]
        },
        {
            "attachments": {},
            "cell_type": "markdown",
            "metadata": {},
            "source": [
                "# Pt. 2"
            ]
        },
        {
            "cell_type": "code",
            "execution_count": 54,
            "metadata": {},
            "outputs": [],
            "source": [
                "seed_ranges = [range(seeds[2*n], seeds[2*n]+seeds[2*n+1]) for n in range(10)]"
            ]
        },
        {
            "cell_type": "code",
            "execution_count": 62,
            "metadata": {},
            "outputs": [],
            "source": [
                "def reverse_traverse_maps(location: int) -> int:\n",
                "    current_value = location\n",
                "    for map in reversed(all_maps):\n",
                "        for value_range in map:\n",
                "            if value_range[0] <= current_value <= value_range[0]+value_range[2]-1:\n",
                "                current_value += value_range[1]-value_range[0]\n",
                "                break\n",
                "            else:\n",
                "                continue\n",
                "    return current_value"
            ]
        },
        {
            "cell_type": "code",
            "execution_count": 68,
            "metadata": {},
            "outputs": [
                {
                    "data": {
                        "text/plain": [
                            "[0, 2539746108, 72263011]"
                        ]
                    },
                    "execution_count": 68,
                    "metadata": {},
                    "output_type": "execute_result"
                }
            ],
            "source": [
                "map_minimum = min([m[0] for m in htl_map])\n",
                "min_start = [x for x in htl_map if x[0] == map_minimum][0]\n",
                "\n",
                "min_start"
            ]
        },
        {
            "cell_type": "code",
            "execution_count": 85,
            "metadata": {},
            "outputs": [
                {
                    "name": "stdout",
                    "output_type": "stream",
                    "text": [
                        "72264000 1315615160\n",
                        "72263011\n"
                    ]
                }
            ],
            "source": [
                "location = 0\n",
                "found_loc = False\n",
                "while not found_loc:\n",
                "    seed_to_loc = reverse_traverse_maps(location=location)\n",
                "    for seed_range in seed_ranges:\n",
                "        if seed_to_loc in seed_range:\n",
                "            print(location, seed_to_loc)\n",
                "            found_loc = True\n",
                "            break\n",
                "    if not found_loc:\n",
                "        location += 1000\n",
                "\n",
                "smallish_locs = []\n",
                "for fine_loc in range(location - 1000, location):\n",
                "    seed_to_loc = reverse_traverse_maps(location=fine_loc)\n",
                "    for seed_range in seed_ranges:\n",
                "        if seed_to_loc in seed_range:\n",
                "            smallish_locs.append(fine_loc)\n",
                "\n",
                "print(min(smallish_locs))"
            ]
        },
        {
            "cell_type": "code",
            "execution_count": null,
            "metadata": {},
            "outputs": [],
            "source": []
        }
    ],
    "metadata": {
        "kernelspec": {
            "display_name": "Python 3",
            "language": "python",
            "name": "python3"
        },
        "language_info": {
            "codemirror_mode": {
                "name": "ipython",
                "version": 3
            },
            "file_extension": ".py",
            "mimetype": "text/x-python",
            "name": "python",
            "nbconvert_exporter": "python",
            "pygments_lexer": "ipython3",
            "version": "3.9.6"
        },
        "orig_nbformat": 4,
        "vscode": {
            "interpreter": {
                "hash": "412a67843bc730569eb6291c88878232ac2ff4005175d04214c4619cd3565889"
            }
        }
    },
    "nbformat": 4,
    "nbformat_minor": 2
}
