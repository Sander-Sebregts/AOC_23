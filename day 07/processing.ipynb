{
    "cells": [
        {
            "attachments": {},
            "cell_type": "markdown",
            "metadata": {},
            "source": [
                "# Init stuffs"
            ]
        },
        {
            "attachments": {},
            "cell_type": "markdown",
            "metadata": {},
            "source": [
                "### Imports"
            ]
        },
        {
            "cell_type": "code",
            "execution_count": 8,
            "metadata": {},
            "outputs": [],
            "source": []
        },
        {
            "attachments": {},
            "cell_type": "markdown",
            "metadata": {},
            "source": [
                "### Input data"
            ]
        },
        {
            "cell_type": "code",
            "execution_count": 1,
            "metadata": {},
            "outputs": [],
            "source": [
                "filename = \"./input_1.txt\"\n",
                "\n",
                "with open(file=filename) as f:\n",
                "    input_data_pt1 = f.read().splitlines()\n",
                "\n",
                "test_filename = \"./input_2.txt\"\n",
                "\n",
                "with open(file=test_filename) as f:\n",
                "    test_input = f.read().splitlines()"
            ]
        },
        {
            "attachments": {},
            "cell_type": "markdown",
            "metadata": {},
            "source": [
                "# Pt. 1"
            ]
        },
        {
            "cell_type": "code",
            "execution_count": 75,
            "metadata": {},
            "outputs": [],
            "source": [
                "def determine_hand(hand: str, current_lists: list[list]) -> (dict, int, list):\n",
                "    cards, value = hand.split()\n",
                "\n",
                "    hand_contents = dict()\n",
                "    for i in cards:\n",
                "        hand_contents[i] = hand_contents.get(i, 0) + 1\n",
                "\n",
                "    card_occurrences = list(hand_contents.values())\n",
                "    card_occurrences.sort(reverse=True)\n",
                "\n",
                "    if card_occurrences == [1, 1, 1, 1, 1]:\n",
                "        current_lists[0].append((cards, value))\n",
                "    elif card_occurrences == [2, 1, 1, 1]:\n",
                "        current_lists[1].append((cards, value))\n",
                "    elif card_occurrences == [2, 2, 1]:\n",
                "        current_lists[2].append((cards, value))\n",
                "    elif card_occurrences == [3, 1, 1]:\n",
                "        current_lists[3].append((cards, value))\n",
                "    elif card_occurrences == [3, 2]:\n",
                "        current_lists[4].append((cards, value))\n",
                "    elif card_occurrences == [4, 1]:\n",
                "        current_lists[5].append((cards, value))\n",
                "    elif card_occurrences == [5]:\n",
                "        current_lists[6].append((cards, value))\n",
                "    else:\n",
                "        print(\"What kind of hand even is this?!\")\n",
                "        print(card_occurrences)\n",
                "\n",
                "    return current_lists\n",
                "\n",
                "\n",
                "CARD_SORT_ORDER = {\n",
                "    \"2\": 0,\n",
                "    \"3\": 1,\n",
                "    \"4\": 2,\n",
                "    \"5\": 3,\n",
                "    \"6\": 4,\n",
                "    \"7\": 5,\n",
                "    \"8\": 6,\n",
                "    \"9\": 7,\n",
                "    \"T\": 8,\n",
                "    \"J\": 9,\n",
                "    \"Q\": 10,\n",
                "    \"K\": 11,\n",
                "    \"A\": 12,\n",
                "}\n",
                "\n",
                "\n",
                "def sort_hands(hand_types: list[list], sort_order: dict) -> list[list]:\n",
                "    for hand_type_index in range(len(hand_types)):\n",
                "        for card in range(5):\n",
                "            hand_types[hand_type_index].sort(\n",
                "                key=lambda val: sort_order[val[0][4 - card]]\n",
                "            )\n",
                "    return hand_types\n",
                "\n",
                "\n",
                "def sort_hands_and_compute_bid_value(hand_types: list[list], sort_order: dict) -> int:\n",
                "    total_value = 0\n",
                "    total_hand_count = 0\n",
                "\n",
                "    hand_types = sort_hands(hand_types=hand_types, sort_order=sort_order)\n",
                "\n",
                "    for hand_type in hand_types:\n",
                "        for index, hand in enumerate(hand_type):\n",
                "            total_value += (total_hand_count + index + 1) * int(hand[1])\n",
                "        total_hand_count += len(hand_type)\n",
                "    return total_value"
            ]
        },
        {
            "cell_type": "code",
            "execution_count": 76,
            "metadata": {},
            "outputs": [
                {
                    "data": {
                        "text/plain": [
                            "250946742"
                        ]
                    },
                    "execution_count": 76,
                    "metadata": {},
                    "output_type": "execute_result"
                }
            ],
            "source": [
                "hand_types = [[] for _ in range(7)]\n",
                "\n",
                "for hand in input_data_pt1:\n",
                "    hand_types = determine_hand(hand=hand, current_lists=hand_types)\n",
                "\n",
                "sort_hands_and_compute_bid_value(hand_types=hand_types, sort_order=CARD_SORT_ORDER)"
            ]
        },
        {
            "attachments": {},
            "cell_type": "markdown",
            "metadata": {},
            "source": [
                "# Pt. 2"
            ]
        },
        {
            "cell_type": "code",
            "execution_count": 79,
            "metadata": {},
            "outputs": [],
            "source": [
                "CARD_SORT_ORDER_2 = {\n",
                "    \"J\": 0,\n",
                "    \"2\": 1,\n",
                "    \"3\": 2,\n",
                "    \"4\": 3,\n",
                "    \"5\": 4,\n",
                "    \"6\": 5,\n",
                "    \"7\": 6,\n",
                "    \"8\": 7,\n",
                "    \"9\": 8,\n",
                "    \"T\": 9,\n",
                "    \"Q\": 10,\n",
                "    \"K\": 11,\n",
                "    \"A\": 12,\n",
                "}\n",
                "\n",
                "\n",
                "def determine_hand_2(hand: str, current_lists: list[list]) -> (dict, int, list):\n",
                "    cards, value = hand.split()\n",
                "\n",
                "    hand_contents = dict()\n",
                "    for i in cards:\n",
                "        hand_contents[i] = hand_contents.get(i, 0) + 1\n",
                "\n",
                "    card_occurrences = list(hand_contents.values())\n",
                "    card_occurrences.sort(reverse=True)\n",
                "\n",
                "    if \"J\" in hand_contents.keys():\n",
                "        n_jokers = hand_contents[\"J\"]\n",
                "    else:\n",
                "        n_jokers = 0\n",
                "\n",
                "    # Time to make things terrible\n",
                "    if card_occurrences == [1, 1, 1, 1, 1]:\n",
                "        if n_jokers != 0:  # High card upgraded to 1 pair\n",
                "            current_lists[1].append((cards, value))\n",
                "        else:\n",
                "            current_lists[0].append((cards, value))\n",
                "    elif card_occurrences == [2, 1, 1, 1]:\n",
                "        if n_jokers != 0:  # Either high card or 1 pair upgraded to 3oaKind\n",
                "            current_lists[3].append((cards, value))\n",
                "        else:\n",
                "            current_lists[1].append((cards, value))\n",
                "    elif card_occurrences == [2, 2, 1]:\n",
                "        if n_jokers == 2:  # 1 pair upgraded to 4oaK\n",
                "            current_lists[5].append((cards, value))\n",
                "        elif n_jokers == 1:  # 2 pair upgraded to Full House\n",
                "            current_lists[4].append((cards, value))\n",
                "        else:\n",
                "            current_lists[2].append((cards, value))\n",
                "    elif card_occurrences == [3, 1, 1]:\n",
                "        if n_jokers != 0:  #  High card or 3oaK upgraded to 4oaK\n",
                "            current_lists[5].append((cards, value))\n",
                "        else:\n",
                "            current_lists[3].append((cards, value))\n",
                "    elif n_jokers != 0: # If any J present after this point, it'll result in 5oaK\n",
                "        current_lists[6].append((cards, value))\n",
                "    elif card_occurrences == [3, 2]:\n",
                "        current_lists[4].append((cards, value))\n",
                "    elif card_occurrences == [4, 1]:\n",
                "        current_lists[5].append((cards, value))\n",
                "    elif card_occurrences == [5]:\n",
                "        current_lists[6].append((cards, value))\n",
                "    else:\n",
                "        print(\"What kind of hand even is this?!\")\n",
                "        print(card_occurrences)\n",
                "\n",
                "    return current_lists"
            ]
        },
        {
            "cell_type": "code",
            "execution_count": 81,
            "metadata": {},
            "outputs": [
                {
                    "data": {
                        "text/plain": [
                            "251824095"
                        ]
                    },
                    "execution_count": 81,
                    "metadata": {},
                    "output_type": "execute_result"
                }
            ],
            "source": [
                "hand_types = [[] for _ in range(7)]\n",
                "\n",
                "for hand in input_data_pt1:\n",
                "    hand_types = determine_hand_2(hand=hand, current_lists=hand_types)\n",
                "\n",
                "sort_hands_and_compute_bid_value(hand_types=hand_types, sort_order=CARD_SORT_ORDER_2)"
            ]
        },
        {
            "cell_type": "code",
            "execution_count": null,
            "metadata": {},
            "outputs": [],
            "source": []
        }
    ],
    "metadata": {
        "kernelspec": {
            "display_name": "Python 3",
            "language": "python",
            "name": "python3"
        },
        "language_info": {
            "codemirror_mode": {
                "name": "ipython",
                "version": 3
            },
            "file_extension": ".py",
            "mimetype": "text/x-python",
            "name": "python",
            "nbconvert_exporter": "python",
            "pygments_lexer": "ipython3",
            "version": "3.9.6"
        },
        "orig_nbformat": 4,
        "vscode": {
            "interpreter": {
                "hash": "412a67843bc730569eb6291c88878232ac2ff4005175d04214c4619cd3565889"
            }
        }
    },
    "nbformat": 4,
    "nbformat_minor": 2
}
