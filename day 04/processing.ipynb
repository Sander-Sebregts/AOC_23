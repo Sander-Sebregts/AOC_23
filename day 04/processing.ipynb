{
    "cells": [
        {
            "attachments": {},
            "cell_type": "markdown",
            "metadata": {},
            "source": [
                "# Init stuffs"
            ]
        },
        {
            "attachments": {},
            "cell_type": "markdown",
            "metadata": {},
            "source": [
                "### Input data"
            ]
        },
        {
            "cell_type": "code",
            "execution_count": 3,
            "metadata": {},
            "outputs": [],
            "source": [
                "filename = \"./input_1.txt\"\n",
                "\n",
                "with open(file=filename) as f:\n",
                "    input_data_pt1 = f.read().splitlines()"
            ]
        },
        {
            "attachments": {},
            "cell_type": "markdown",
            "metadata": {},
            "source": [
                "# Pt. 1"
            ]
        },
        {
            "cell_type": "code",
            "execution_count": 6,
            "metadata": {},
            "outputs": [
                {
                    "data": {
                        "text/plain": [
                            "'  5'"
                        ]
                    },
                    "execution_count": 6,
                    "metadata": {},
                    "output_type": "execute_result"
                }
            ],
            "source": [
                "input_data_pt1[0][9:12]"
            ]
        },
        {
            "cell_type": "code",
            "execution_count": 30,
            "metadata": {},
            "outputs": [
                {
                    "name": "stdout",
                    "output_type": "stream",
                    "text": [
                        "27454\n"
                    ]
                }
            ],
            "source": [
                "total_score = 0\n",
                "\n",
                "for scratchcard in input_data_pt1:\n",
                "    winning_nrs = [int(scratchcard[9 + 3 * n : 9 + 3 * n + 3]) for n in range(10)]\n",
                "    scratched_nrs = [int(scratchcard[41 + 3 * n : 41 + 3 * n + 3]) for n in range(25)]\n",
                "    \n",
                "    overlap = [number for number in scratched_nrs if number in winning_nrs]\n",
                "    if len(overlap)>0:\n",
                "        total_score += 2**(len(overlap)-1)\n",
                "\n",
                "print(total_score)"
            ]
        },
        {
            "attachments": {},
            "cell_type": "markdown",
            "metadata": {},
            "source": [
                "# Init pt. 2"
            ]
        },
        {
            "attachments": {},
            "cell_type": "markdown",
            "metadata": {},
            "source": [
                "### More imports?"
            ]
        },
        {
            "cell_type": "code",
            "execution_count": null,
            "metadata": {},
            "outputs": [],
            "source": []
        },
        {
            "attachments": {},
            "cell_type": "markdown",
            "metadata": {},
            "source": [
                "### Input data (again)"
            ]
        },
        {
            "cell_type": "code",
            "execution_count": null,
            "metadata": {},
            "outputs": [],
            "source": [
                "# filename = \"./input_2.txt\"\n",
                "\n",
                "# with open(file=filename) as f:\n",
                "#     input_data_pt2 = f.read().splitlines()"
            ]
        },
        {
            "attachments": {},
            "cell_type": "markdown",
            "metadata": {},
            "source": [
                "# Pt. 2"
            ]
        },
        {
            "cell_type": "code",
            "execution_count": 31,
            "metadata": {},
            "outputs": [
                {
                    "name": "stdout",
                    "output_type": "stream",
                    "text": [
                        "6857330\n"
                    ]
                }
            ],
            "source": [
                "card_count_list = [1 for index in range(len(input_data_pt1))]\n",
                "\n",
                "for row_index, scratchcard in enumerate(input_data_pt1):\n",
                "    winning_nrs = [int(scratchcard[9 + 3 * n : 9 + 3 * n + 3]) for n in range(10)]\n",
                "    scratched_nrs = [int(scratchcard[41 + 3 * n : 41 + 3 * n + 3]) for n in range(25)]\n",
                "\n",
                "    overlap = [number for number in scratched_nrs if number in winning_nrs]\n",
                "    if len(overlap) > 0:\n",
                "        for won_card_number in range(len(overlap)):\n",
                "            card_index = row_index + won_card_number + 1\n",
                "            if card_index > len(card_count_list):\n",
                "                break\n",
                "            card_count_list[card_index] = (\n",
                "                card_count_list[card_index] + card_count_list[row_index]\n",
                "            )\n",
                "\n",
                "print(sum(card_count_list))"
            ]
        },
        {
            "cell_type": "code",
            "execution_count": null,
            "metadata": {},
            "outputs": [],
            "source": []
        }
    ],
    "metadata": {
        "kernelspec": {
            "display_name": "Python 3",
            "language": "python",
            "name": "python3"
        },
        "language_info": {
            "codemirror_mode": {
                "name": "ipython",
                "version": 3
            },
            "file_extension": ".py",
            "mimetype": "text/x-python",
            "name": "python",
            "nbconvert_exporter": "python",
            "pygments_lexer": "ipython3",
            "version": "3.9.6"
        },
        "orig_nbformat": 4,
        "vscode": {
            "interpreter": {
                "hash": "412a67843bc730569eb6291c88878232ac2ff4005175d04214c4619cd3565889"
            }
        }
    },
    "nbformat": 4,
    "nbformat_minor": 2
}
