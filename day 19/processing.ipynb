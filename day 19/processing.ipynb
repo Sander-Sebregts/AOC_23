{
    "cells": [
        {
            "attachments": {},
            "cell_type": "markdown",
            "metadata": {},
            "source": [
                "# Init stuffs"
            ]
        },
        {
            "attachments": {},
            "cell_type": "markdown",
            "metadata": {},
            "source": [
                "### Imports"
            ]
        },
        {
            "cell_type": "code",
            "execution_count": 1,
            "metadata": {},
            "outputs": [],
            "source": [
                "import operator"
            ]
        },
        {
            "attachments": {},
            "cell_type": "markdown",
            "metadata": {},
            "source": [
                "### Input data"
            ]
        },
        {
            "cell_type": "code",
            "execution_count": 15,
            "metadata": {},
            "outputs": [],
            "source": [
                "filename = \"./input_1.txt\"\n",
                "test_filename = \"./input_2.txt\"\n",
                "\n",
                "with open(file=filename) as f:\n",
                "    data = f.read().split(\"\\n\\n\")\n",
                "    instructions, parts = [data[i].splitlines() for i in range(len(data))]\n",
                "\n",
                "with open(file=test_filename) as f:\n",
                "    test_data = f.read().split(\"\\n\\n\")\n",
                "    test_instructions, test_parts = [test_data[i].splitlines() for i in range(len(test_data))]"
            ]
        },
        {
            "attachments": {},
            "cell_type": "markdown",
            "metadata": {},
            "source": [
                "# Pt. 1"
            ]
        },
        {
            "cell_type": "code",
            "execution_count": 5,
            "metadata": {},
            "outputs": [],
            "source": [
                "OPS = { \">\": operator.gt, \"<\": operator.lt}"
            ]
        },
        {
            "cell_type": "code",
            "execution_count": 49,
            "metadata": {},
            "outputs": [],
            "source": [
                "def simplify_instruction(instruction: str) -> tuple[str,list[str]]:\n",
                "    name, instr = instruction.split(\"{\")\n",
                "    instr = instr.strip(\"}\").split(\",\")\n",
                "    instr_dict = {}\n",
                "    for validation in instr:\n",
                "        if \":\" in validation:\n",
                "            instr_dict[validation.split(\":\")[0]] = validation.split(\":\")[1]\n",
                "        else:\n",
                "            instr_dict[\"else\"] = validation\n",
                "    \n",
                "    if len(set(instr_dict.values())) == 1:\n",
                "        value = next(iter(instr_dict.values()))\n",
                "        instr_dict = {}\n",
                "        instr_dict[\"always\"] = value\n",
                "    return name, instr_dict\n",
                "\n",
                "def parse_instructions(instructions: list[str]) -> dict:\n",
                "    instruction_dict = {}\n",
                "    for instruction in instructions:\n",
                "        name, simplified = simplify_instruction(instruction=instruction)\n",
                "        instruction_dict[name] = simplified\n",
                "    return instruction_dict\n",
                "\n",
                "def parse_parts(parts: list[str]) -> list[dict]:\n",
                "    parts_dict_list = []\n",
                "    for part in parts:\n",
                "        part_dict = {}\n",
                "        part_parts = part[1:-1].split(\",\")\n",
                "        for part_part in part_parts:\n",
                "            part_dict[part_part[0]] = part_part[2:]\n",
                "        parts_dict_list.append(part_dict)\n",
                "    return parts_dict_list\n",
                "\n",
                "def traverse_instructions(part_dict: dict, instruction_dict: dict) -> str:\n",
                "    current_instruction = \"in\"\n",
                "    while True:\n",
                "        instruction_set = instruction_dict[current_instruction]\n",
                "        # print(f\"Working on instruction set: {current_instruction}\")\n",
                "        for k, v in instruction_set.items():\n",
                "            value = \"-1\"\n",
                "            if k == \"always\":\n",
                "                return v\n",
                "            if k == \"else\":\n",
                "                value = v\n",
                "            elif OPS[k[1]](int(part_dict[k[0]]),int(k[2:])):\n",
                "                value = v\n",
                "            \n",
                "            if value != \"-1\":\n",
                "                if value == \"A\" or value == \"R\":\n",
                "                    return value\n",
                "                else:\n",
                "                    current_instruction = value\n",
                "                    break\n"
            ]
        },
        {
            "cell_type": "code",
            "execution_count": 50,
            "metadata": {},
            "outputs": [],
            "source": [
                "instruction_dict = parse_instructions(instructions=instructions)\n",
                "part_dicts = parse_parts(parts=parts)"
            ]
        },
        {
            "cell_type": "code",
            "execution_count": 51,
            "metadata": {},
            "outputs": [
                {
                    "name": "stdout",
                    "output_type": "stream",
                    "text": [
                        "383682\n"
                    ]
                }
            ],
            "source": [
                "total_sum = 0\n",
                "for part_dict in part_dicts:\n",
                "    if traverse_instructions(part_dict=part_dict, instruction_dict=instruction_dict) == \"A\":\n",
                "        total_sum += int(part_dict[\"x\"])+int(part_dict[\"m\"])+int(part_dict[\"a\"])+int(part_dict[\"s\"])\n",
                "print(total_sum)"
            ]
        },
        {
            "attachments": {},
            "cell_type": "markdown",
            "metadata": {},
            "source": [
                "# Pt. 2"
            ]
        },
        {
            "cell_type": "markdown",
            "metadata": {},
            "source": []
        },
        {
            "cell_type": "code",
            "execution_count": null,
            "metadata": {},
            "outputs": [],
            "source": []
        }
    ],
    "metadata": {
        "kernelspec": {
            "display_name": "Python 3",
            "language": "python",
            "name": "python3"
        },
        "language_info": {
            "codemirror_mode": {
                "name": "ipython",
                "version": 3
            },
            "file_extension": ".py",
            "mimetype": "text/x-python",
            "name": "python",
            "nbconvert_exporter": "python",
            "pygments_lexer": "ipython3",
            "version": "3.11.5"
        },
        "orig_nbformat": 4,
        "vscode": {
            "interpreter": {
                "hash": "412a67843bc730569eb6291c88878232ac2ff4005175d04214c4619cd3565889"
            }
        }
    },
    "nbformat": 4,
    "nbformat_minor": 2
}
