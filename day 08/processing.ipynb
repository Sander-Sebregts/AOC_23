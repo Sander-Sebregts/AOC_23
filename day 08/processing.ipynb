{
    "cells": [
        {
            "attachments": {},
            "cell_type": "markdown",
            "metadata": {},
            "source": [
                "# Init stuffs"
            ]
        },
        {
            "attachments": {},
            "cell_type": "markdown",
            "metadata": {},
            "source": [
                "### Imports"
            ]
        },
        {
            "cell_type": "code",
            "execution_count": 1,
            "metadata": {},
            "outputs": [],
            "source": [
                "import re"
            ]
        },
        {
            "attachments": {},
            "cell_type": "markdown",
            "metadata": {},
            "source": [
                "### Input data"
            ]
        },
        {
            "cell_type": "code",
            "execution_count": 32,
            "metadata": {},
            "outputs": [],
            "source": [
                "filename = \"./input_1.txt\"\n",
                "\n",
                "with open(file=filename) as f:\n",
                "    input_data_pt1 = f.read().splitlines()"
            ]
        },
        {
            "attachments": {},
            "cell_type": "markdown",
            "metadata": {},
            "source": [
                "# Pt. 1"
            ]
        },
        {
            "cell_type": "code",
            "execution_count": 33,
            "metadata": {},
            "outputs": [
                {
                    "name": "stdout",
                    "output_type": "stream",
                    "text": [
                        "16531\n"
                    ]
                }
            ],
            "source": [
                "route_dict = {}\n",
                "for node in input_data_pt1[2:]:\n",
                "    m = re.findall(pattern=\"\\w+\", string=node)\n",
                "    route_dict[m[0]] = {\"L\": m[1], \"R\": m[2]}\n",
                "\n",
                "instructions = input_data_pt1[0]\n",
                "\n",
                "start = \"AAA\"\n",
                "end = \"ZZZ\"\n",
                "\n",
                "location = start\n",
                "loop_index = 0\n",
                "while location != end:\n",
                "    location = route_dict[location][instructions[loop_index%len(instructions)]]\n",
                "    loop_index += 1\n",
                "\n",
                "print(loop_index)"
            ]
        },
        {
            "attachments": {},
            "cell_type": "markdown",
            "metadata": {},
            "source": [
                "# Pt. 2"
            ]
        },
        {
            "cell_type": "code",
            "execution_count": 50,
            "metadata": {},
            "outputs": [
                {
                    "name": "stdout",
                    "output_type": "stream",
                    "text": [
                        "19241 71.0\n",
                        "18157 67.0\n",
                        "19783 73.0\n",
                        "16531 61.0\n",
                        "21409 79.0\n",
                        "14363 53.0\n"
                    ]
                }
            ],
            "source": [
                "start_nodes = [key for key in route_dict.keys() if key[-1] == \"A\"]\n",
                "end_nodes = [key for key in route_dict.keys() if key[-1] == \"Z\"]\n",
                "\n",
                "finished = False\n",
                "locations = start_nodes\n",
                "steps_per_node = []\n",
                "\n",
                "for location in locations:\n",
                "    loop_index = 0\n",
                "    while location[-1]!=\"Z\":\n",
                "        location = route_dict[location][instructions[loop_index % len(instructions)]]\n",
                "        loop_index += 1\n",
                "    print(loop_index, loop_index/len(instructions))\n",
                "    steps_per_node.append(loop_index)"
            ]
        },
        {
            "cell_type": "code",
            "execution_count": 52,
            "metadata": {},
            "outputs": [
                {
                    "data": {
                        "text/plain": [
                            "24035773251517"
                        ]
                    },
                    "execution_count": 52,
                    "metadata": {},
                    "output_type": "execute_result"
                }
            ],
            "source": [
                "import math\n",
                "math.lcm(*steps_per_node)"
            ]
        },
        {
            "cell_type": "code",
            "execution_count": null,
            "metadata": {},
            "outputs": [],
            "source": []
        }
    ],
    "metadata": {
        "kernelspec": {
            "display_name": "Python 3",
            "language": "python",
            "name": "python3"
        },
        "language_info": {
            "codemirror_mode": {
                "name": "ipython",
                "version": 3
            },
            "file_extension": ".py",
            "mimetype": "text/x-python",
            "name": "python",
            "nbconvert_exporter": "python",
            "pygments_lexer": "ipython3",
            "version": "3.9.6"
        },
        "orig_nbformat": 4,
        "vscode": {
            "interpreter": {
                "hash": "412a67843bc730569eb6291c88878232ac2ff4005175d04214c4619cd3565889"
            }
        }
    },
    "nbformat": 4,
    "nbformat_minor": 2
}
