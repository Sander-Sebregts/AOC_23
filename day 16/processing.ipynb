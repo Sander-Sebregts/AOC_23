{
    "cells": [
        {
            "attachments": {},
            "cell_type": "markdown",
            "metadata": {},
            "source": [
                "# Init stuffs"
            ]
        },
        {
            "attachments": {},
            "cell_type": "markdown",
            "metadata": {},
            "source": [
                "### Input data"
            ]
        },
        {
            "cell_type": "code",
            "execution_count": 15,
            "metadata": {},
            "outputs": [],
            "source": [
                "filename = \"./input_1.txt\"\n",
                "test_filename = \"./input_2.txt\"\n",
                "\n",
                "with open(file=filename) as f:\n",
                "    data = f.read().splitlines()\n",
                "\n",
                "with open(file=test_filename) as f:\n",
                "    test_data = f.read().splitlines()"
            ]
        },
        {
            "attachments": {},
            "cell_type": "markdown",
            "metadata": {},
            "source": [
                "# Pt. 1"
            ]
        },
        {
            "cell_type": "code",
            "execution_count": 166,
            "metadata": {},
            "outputs": [],
            "source": [
                "# Directions: 0 == north, 1 == east, 2 == south, 3 == west\n",
                "DIRECTION_DELTAS = {0: (0, -1), 1: (1, 0), 2: (0, 1), 3: (-1, 0)}\n",
                "DIRECTION_CHANGES = {\n",
                "    \"/\": {0: 1, 1: 0, 2: 3, 3: 2},\n",
                "    \"\\\\\": {0: 3, 1: 2, 2: 1, 3: 0},\n",
                "    \".\": {0: 0, 1: 1, 2: 2, 3: 3},\n",
                "}\n",
                "SPLITS = {\n",
                "    \"-\": {0: [1, 3], 1: [1], 2: [1, 3], 3: [3]},\n",
                "    \"|\": {0: [0], 1: [0, 2], 2: [2], 3: [0, 2]}\n",
                "}\n",
                "\n",
                "def simple_propagation(active_beams: list[tuple], energized_tiles: list[tuple], next_beam_loc: list[int], next_direction: int) -> tuple[list[tuple], list[tuple]]:\n",
                "    next_beam = tuple(next_beam_loc+[next_direction])\n",
                "    if next_beam not in energized_tiles:\n",
                "        energized_tiles.append(next_beam)\n",
                "        active_beams.append(next_beam)\n",
                "    return active_beams, energized_tiles\n",
                "\n",
                "def propagate_beam(\n",
                "    grid: list[str], active_beams: list[tuple], energized_tiles: list[tuple]\n",
                ") -> tuple[list[tuple], list[tuple]]:\n",
                "    current_x, current_y, current_dir = active_beams.pop(0)\n",
                "    next_beam_loc = [\n",
                "        current_x + DIRECTION_DELTAS[current_dir][0],\n",
                "        current_y + DIRECTION_DELTAS[current_dir][1],\n",
                "    ]\n",
                "    if (\n",
                "        min(next_beam_loc) < 0 or max(next_beam_loc) > len(grid) - 1\n",
                "    ):  # propagates outside of grid\n",
                "        return active_beams, energized_tiles\n",
                "\n",
                "    next_grid_value = grid[next_beam_loc[1]][next_beam_loc[0]]\n",
                "    if next_grid_value in DIRECTION_CHANGES.keys(): # easy propagations\n",
                "        next_direction = DIRECTION_CHANGES[grid[next_beam_loc[1]][next_beam_loc[0]]][current_dir]\n",
                "        return simple_propagation(active_beams=active_beams, energized_tiles=energized_tiles, next_beam_loc=next_beam_loc, next_direction=next_direction)\n",
                "    else: # splitter behavior\n",
                "        splitter_behavior = SPLITS[next_grid_value][current_dir]\n",
                "        if len(splitter_behavior) == 1:\n",
                "            return simple_propagation(active_beams=active_beams, energized_tiles=energized_tiles, next_beam_loc=next_beam_loc, next_direction=splitter_behavior[0])\n",
                "        else:\n",
                "            energized_tiles.append(tuple(next_beam_loc+[current_dir]))\n",
                "            for next_action in splitter_behavior:\n",
                "                active_beams.append(tuple(next_beam_loc+[next_action]))\n",
                "            return active_beams, energized_tiles\n"
            ]
        },
        {
            "cell_type": "code",
            "execution_count": 181,
            "metadata": {},
            "outputs": [
                {
                    "data": {
                        "text/plain": [
                            "6994"
                        ]
                    },
                    "execution_count": 181,
                    "metadata": {},
                    "output_type": "execute_result"
                }
            ],
            "source": [
                "active_beams = [(-1, 0, 1)]  # tuple of x,y,direction entries of active beams\n",
                "energized_tiles = []\n",
                "\n",
                "while active_beams:\n",
                "    active_beams, energized_tiles = propagate_beam(grid=data, active_beams=active_beams, energized_tiles=energized_tiles)\n",
                "len(set([(x, y) for x, y, _ in energized_tiles]))"
            ]
        },
        {
            "attachments": {},
            "cell_type": "markdown",
            "metadata": {},
            "source": [
                "# Pt. 2 (brute force to the win)"
            ]
        },
        {
            "cell_type": "code",
            "execution_count": 185,
            "metadata": {},
            "outputs": [
                {
                    "name": "stdout",
                    "output_type": "stream",
                    "text": [
                        "7488 440\n"
                    ]
                }
            ],
            "source": [
                "tiles = []\n",
                "for i in range(len(data)):\n",
                "    active_beams = [(-1, i, 1)]\n",
                "    energized_tiles = []\n",
                "    while active_beams:\n",
                "        active_beams, energized_tiles = propagate_beam(grid=data, active_beams=active_beams, energized_tiles=energized_tiles)\n",
                "    tiles.append(len(set([(x, y) for x, y, _ in energized_tiles])))\n",
                "\n",
                "    active_beams = [(i, -1, 2)]\n",
                "    energized_tiles = []\n",
                "    while active_beams:\n",
                "        active_beams, energized_tiles = propagate_beam(grid=data, active_beams=active_beams, energized_tiles=energized_tiles)\n",
                "    tiles.append(len(set([(x, y) for x, y, _ in energized_tiles])))\n",
                "\n",
                "    active_beams = [(len(data), i, 3)]\n",
                "    energized_tiles = []\n",
                "    while active_beams:\n",
                "        active_beams, energized_tiles = propagate_beam(grid=data, active_beams=active_beams, energized_tiles=energized_tiles)\n",
                "    tiles.append(len(set([(x, y) for x, y, _ in energized_tiles])))\n",
                "\n",
                "    active_beams = [(i, len(data), 0)]\n",
                "    energized_tiles = []\n",
                "    while active_beams:\n",
                "        active_beams, energized_tiles = propagate_beam(grid=data, active_beams=active_beams, energized_tiles=energized_tiles)\n",
                "    tiles.append(len(set([(x, y) for x, y, _ in energized_tiles])))\n",
                "\n",
                "print(max(tiles), len(tiles))"
            ]
        },
        {
            "cell_type": "markdown",
            "metadata": {},
            "source": [
                "# Runtime of that (&uarr;) cell is about 2m30s"
            ]
        },
        {
            "cell_type": "code",
            "execution_count": null,
            "metadata": {},
            "outputs": [],
            "source": []
        }
    ],
    "metadata": {
        "kernelspec": {
            "display_name": "Python 3",
            "language": "python",
            "name": "python3"
        },
        "language_info": {
            "codemirror_mode": {
                "name": "ipython",
                "version": 3
            },
            "file_extension": ".py",
            "mimetype": "text/x-python",
            "name": "python",
            "nbconvert_exporter": "python",
            "pygments_lexer": "ipython3",
            "version": "3.9.6"
        },
        "orig_nbformat": 4,
        "vscode": {
            "interpreter": {
                "hash": "412a67843bc730569eb6291c88878232ac2ff4005175d04214c4619cd3565889"
            }
        }
    },
    "nbformat": 4,
    "nbformat_minor": 2
}
