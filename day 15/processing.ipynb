{
    "cells": [
        {
            "attachments": {},
            "cell_type": "markdown",
            "metadata": {},
            "source": [
                "# Init stuffs"
            ]
        },
        {
            "attachments": {},
            "cell_type": "markdown",
            "metadata": {},
            "source": [
                "### Input data"
            ]
        },
        {
            "cell_type": "code",
            "execution_count": 21,
            "metadata": {},
            "outputs": [],
            "source": [
                "filename = \"./input_1.txt\"\n",
                "\n",
                "with open(file=filename) as f:\n",
                "    input_data_pt1 = f.read().strip().split(\",\")"
            ]
        },
        {
            "cell_type": "code",
            "execution_count": 64,
            "metadata": {},
            "outputs": [],
            "source": [
                "filename = \"./input_2.txt\"\n",
                "\n",
                "with open(file=filename) as f:\n",
                "    input_data_pt2 = f.read().strip().split(\",\")"
            ]
        },
        {
            "attachments": {},
            "cell_type": "markdown",
            "metadata": {},
            "source": [
                "# Pt. 1"
            ]
        },
        {
            "cell_type": "code",
            "execution_count": 23,
            "metadata": {},
            "outputs": [],
            "source": [
                "def HASH(input:str) -> int:\n",
                "    value = 0\n",
                "    for char in input:\n",
                "        value = (17*(value+ord(char)))%256\n",
                "    return value"
            ]
        },
        {
            "cell_type": "code",
            "execution_count": 28,
            "metadata": {},
            "outputs": [
                {
                    "data": {
                        "text/plain": [
                            "514281"
                        ]
                    },
                    "execution_count": 28,
                    "metadata": {},
                    "output_type": "execute_result"
                }
            ],
            "source": [
                "values = []\n",
                "for input_string in input_data_pt1:\n",
                "    values.append(HASH(input=input_string))\n",
                "    \n",
                "sum(values)"
            ]
        },
        {
            "attachments": {},
            "cell_type": "markdown",
            "metadata": {},
            "source": [
                "# Pt. 2"
            ]
        },
        {
            "cell_type": "code",
            "execution_count": 80,
            "metadata": {},
            "outputs": [],
            "source": [
                "def add_to_hashmap(hashmap: list[list[tuple]], box_label: int, lens_label: str, focal_length: int) -> list[list[tuple]]:\n",
                "    for list_index, (lenses, _) in enumerate(hashmap[box_label]):\n",
                "        if lenses == lens_label:\n",
                "            hashmap[box_label][list_index] = (lens_label, focal_length)\n",
                "            return hashmap\n",
                "    hashmap[box_label].append((lens_label, focal_length))\n",
                "    return hashmap\n",
                "    \n",
                "def remove_from_hashmap(hashmap: list[list[tuple]], box_label: int, lens_label: str) -> list[list[tuple]]:\n",
                "    for list_index, (lenses, _) in enumerate(hashmap[box_label]):\n",
                "        if lenses == lens_label:\n",
                "            hashmap[box_label].pop(list_index)\n",
                "            return hashmap\n",
                "    return hashmap\n",
                "\n",
                "def focussing_power(hashmap: list[list[tuple]]) -> int:\n",
                "    power = 0\n",
                "    for box_index, box in enumerate(hashmap):\n",
                "        for index, (_, focal_length) in enumerate(box):\n",
                "            power += (box_index+1) * (index+1) * int(focal_length)\n",
                "    return power"
            ]
        },
        {
            "cell_type": "code",
            "execution_count": 81,
            "metadata": {},
            "outputs": [
                {
                    "data": {
                        "text/plain": [
                            "244199"
                        ]
                    },
                    "execution_count": 81,
                    "metadata": {},
                    "output_type": "execute_result"
                }
            ],
            "source": [
                "hashmap = [[] for _ in range(256)]\n",
                "for lens in input_data_pt1:\n",
                "    box_label = HASH(lens.split(\"-\")[0].split(\"=\")[0])\n",
                "    if \"=\" in lens:\n",
                "        lens_label, focal_length = lens.split(\"=\")\n",
                "        hashmap = add_to_hashmap(hashmap=hashmap, box_label=box_label, lens_label=lens_label, focal_length=focal_length)\n",
                "    else:\n",
                "        lens_label = lens.strip(\"-\")\n",
                "        hashmap = remove_from_hashmap(hashmap=hashmap, box_label=box_label, lens_label=lens_label)\n",
                "\n",
                "focussing_power(hashmap=hashmap)"
            ]
        },
        {
            "cell_type": "code",
            "execution_count": null,
            "metadata": {},
            "outputs": [],
            "source": []
        }
    ],
    "metadata": {
        "kernelspec": {
            "display_name": "Python 3",
            "language": "python",
            "name": "python3"
        },
        "language_info": {
            "codemirror_mode": {
                "name": "ipython",
                "version": 3
            },
            "file_extension": ".py",
            "mimetype": "text/x-python",
            "name": "python",
            "nbconvert_exporter": "python",
            "pygments_lexer": "ipython3",
            "version": "3.11.5"
        },
        "orig_nbformat": 4,
        "vscode": {
            "interpreter": {
                "hash": "412a67843bc730569eb6291c88878232ac2ff4005175d04214c4619cd3565889"
            }
        }
    },
    "nbformat": 4,
    "nbformat_minor": 2
}
