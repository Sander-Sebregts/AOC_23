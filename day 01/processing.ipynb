{
 "cells": [
  {
   "attachments": {},
   "cell_type": "markdown",
   "metadata": {},
   "source": [
    "# Init stuffs"
   ]
  },
  {
   "attachments": {},
   "cell_type": "markdown",
   "metadata": {},
   "source": [
    "### Imports"
   ]
  },
  {
   "cell_type": "code",
   "execution_count": 3,
   "metadata": {},
   "outputs": [],
   "source": [
    "import re"
   ]
  },
  {
   "attachments": {},
   "cell_type": "markdown",
   "metadata": {},
   "source": [
    "### Input data"
   ]
  },
  {
   "cell_type": "code",
   "execution_count": 6,
   "metadata": {},
   "outputs": [],
   "source": [
    "filename = \"./input_1.txt\"\n",
    "\n",
    "with open(file=filename) as f:\n",
    "    input_data_pt1 = f.read().splitlines()"
   ]
  },
  {
   "attachments": {},
   "cell_type": "markdown",
   "metadata": {},
   "source": [
    "# Pt. 1"
   ]
  },
  {
   "cell_type": "code",
   "execution_count": 18,
   "metadata": {},
   "outputs": [],
   "source": [
    "filtered_data = [re.sub(r\"[^0-9]\", \"\", line) for line in input_data_pt1]\n",
    "cal_vals = [int(value[0]+value[-1]) for value in filtered_data]"
   ]
  },
  {
   "cell_type": "code",
   "execution_count": 20,
   "metadata": {},
   "outputs": [
    {
     "data": {
      "text/plain": [
       "54331"
      ]
     },
     "execution_count": 20,
     "metadata": {},
     "output_type": "execute_result"
    }
   ],
   "source": [
    "sum(cal_vals)\n"
   ]
  },
  {
   "attachments": {},
   "cell_type": "markdown",
   "metadata": {},
   "source": [
    "# Init pt. 2"
   ]
  },
  {
   "attachments": {},
   "cell_type": "markdown",
   "metadata": {},
   "source": [
    "### More imports?"
   ]
  },
  {
   "cell_type": "code",
   "execution_count": null,
   "metadata": {},
   "outputs": [],
   "source": []
  },
  {
   "attachments": {},
   "cell_type": "markdown",
   "metadata": {},
   "source": [
    "### Input data (again)"
   ]
  },
  {
   "cell_type": "code",
   "execution_count": 94,
   "metadata": {},
   "outputs": [],
   "source": [
    "filename = \"./input_2.txt\"\n",
    "\n",
    "with open(file=filename) as f:\n",
    "    input_data_pt2 = f.read().splitlines()"
   ]
  },
  {
   "attachments": {},
   "cell_type": "markdown",
   "metadata": {},
   "source": [
    "# Pt. 2"
   ]
  },
  {
   "cell_type": "code",
   "execution_count": 100,
   "metadata": {},
   "outputs": [],
   "source": [
    "def find_first_last(input: str) -> int:\n",
    "    substrings = [\n",
    "        \"one\",\n",
    "        \"1\",\n",
    "        \"two\",\n",
    "        \"2\",\n",
    "        \"three\",\n",
    "        \"3\",\n",
    "        \"four\",\n",
    "        \"4\",\n",
    "        \"five\",\n",
    "        \"5\",\n",
    "        \"six\",\n",
    "        \"6\",\n",
    "        \"seven\",\n",
    "        \"7\",\n",
    "        \"eight\",\n",
    "        \"8\",\n",
    "        \"nine\",\n",
    "        \"9\",\n",
    "    ]\n",
    "    first_locs = [input.find(substring) for substring in substrings]\n",
    "    last_locs = [input.rfind(substring) for substring in substrings]\n",
    "    actual_first_locs = [value for value in first_locs if value >= 0]\n",
    "\n",
    "    first_index = first_locs.index(min(actual_first_locs))\n",
    "    last_index = last_locs.index(max(last_locs))\n",
    "\n",
    "    first_index = first_index + 1 if first_index % 2 == 0 else first_index\n",
    "    last_index = last_index + 1 if last_index % 2 == 0 else last_index\n",
    "\n",
    "    return int(substrings[first_index] + substrings[last_index])\n"
   ]
  },
  {
   "cell_type": "code",
   "execution_count": 101,
   "metadata": {},
   "outputs": [
    {
     "data": {
      "text/plain": [
       "54518"
      ]
     },
     "execution_count": 101,
     "metadata": {},
     "output_type": "execute_result"
    }
   ],
   "source": [
    "results = []\n",
    "\n",
    "for value in input_data_pt1:\n",
    "    results.append(find_first_last(value))\n",
    "        \n",
    "sum(results)"
   ]
  },
  {
   "cell_type": "code",
   "execution_count": null,
   "metadata": {},
   "outputs": [],
   "source": []
  }
 ],
 "metadata": {
  "kernelspec": {
   "display_name": "Python 3",
   "language": "python",
   "name": "python3"
  },
  "language_info": {
   "codemirror_mode": {
    "name": "ipython",
    "version": 3
   },
   "file_extension": ".py",
   "mimetype": "text/x-python",
   "name": "python",
   "nbconvert_exporter": "python",
   "pygments_lexer": "ipython3",
   "version": "3.9.6"
  },
  "orig_nbformat": 4,
  "vscode": {
   "interpreter": {
    "hash": "412a67843bc730569eb6291c88878232ac2ff4005175d04214c4619cd3565889"
   }
  }
 },
 "nbformat": 4,
 "nbformat_minor": 2
}
