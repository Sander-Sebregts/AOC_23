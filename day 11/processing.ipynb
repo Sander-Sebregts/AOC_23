{
    "cells": [
        {
            "attachments": {},
            "cell_type": "markdown",
            "metadata": {},
            "source": [
                "# Init stuffs"
            ]
        },
        {
            "attachments": {},
            "cell_type": "markdown",
            "metadata": {},
            "source": [
                "### Imports"
            ]
        },
        {
            "cell_type": "code",
            "execution_count": 7,
            "metadata": {},
            "outputs": [],
            "source": [
                "from itertools import combinations"
            ]
        },
        {
            "attachments": {},
            "cell_type": "markdown",
            "metadata": {},
            "source": [
                "### Input data"
            ]
        },
        {
            "cell_type": "code",
            "execution_count": 30,
            "metadata": {},
            "outputs": [],
            "source": [
                "filename = \"./input_1.txt\"\n",
                "\n",
                "with open(file=filename) as f:\n",
                "    input_data_pt1 = f.read().splitlines()"
            ]
        },
        {
            "attachments": {},
            "cell_type": "markdown",
            "metadata": {},
            "source": [
                "# Pt. 1"
            ]
        },
        {
            "cell_type": "code",
            "execution_count": 31,
            "metadata": {},
            "outputs": [],
            "source": [
                "def find_empty_rows_cols(cosmos: list[list[str]]) -> list[list[int],list[int]]:\n",
                "    empty_rows = []\n",
                "    empty_cols = []\n",
                "    for i in range(len(cosmos[0])):\n",
                "        if all(n == \".\" for n in cosmos[i]):\n",
                "            empty_rows.append(i)\n",
                "        \n",
                "        col = [cosmos[j][i] for j in range(len(cosmos[0]))]\n",
                "        if all(n == \".\" for n in col):\n",
                "            empty_cols.append(i)\n",
                "    \n",
                "    return [empty_rows, empty_cols]\n",
                "\n",
                "def find_galaxies(cosmos: list[list[str]]) -> list[list[int, int]]:\n",
                "    galaxies = []\n",
                "    for y, row in enumerate(cosmos):\n",
                "        for x, char in enumerate(row):\n",
                "            if char == \"#\":\n",
                "                galaxies.append([x,y])\n",
                "    return galaxies"
            ]
        },
        {
            "cell_type": "code",
            "execution_count": 36,
            "metadata": {},
            "outputs": [
                {
                    "name": "stdout",
                    "output_type": "stream",
                    "text": [
                        "9233514\n",
                        "363293506944\n"
                    ]
                }
            ],
            "source": [
                "expanded_rows_cols = find_empty_rows_cols(cosmos=input_data_pt1)\n",
                "galaxy_combos = list(combinations(find_galaxies(cosmos=input_data_pt1),2))\n",
                "\n",
                "sum_distances = 0\n",
                "sum_large_distances = 0\n",
                "for combo in galaxy_combos:\n",
                "    included_column_expansions = [x for x in expanded_rows_cols[1] if (combo[0][0]<x<combo[1][0] or combo[1][0]<x<combo[0][0])]\n",
                "    included_row_expansions = [y for y in expanded_rows_cols[0] if (combo[0][1]<y<combo[1][1] or combo[1][1]<y<combo[0][1])]\n",
                "    delta = abs(combo[0][0]-combo[1][0])+abs(combo[0][1]-combo[1][1])\n",
                "    sum_distances += delta+len(included_column_expansions)+len(included_row_expansions)\n",
                "    sum_large_distances += delta+999999*len(included_column_expansions)+999999*len(included_row_expansions)\n",
                "\n",
                "print(sum_distances)\n",
                "print(sum_large_distances)"
            ]
        },
        {
            "cell_type": "code",
            "execution_count": null,
            "metadata": {},
            "outputs": [],
            "source": []
        }
    ],
    "metadata": {
        "kernelspec": {
            "display_name": "Python 3",
            "language": "python",
            "name": "python3"
        },
        "language_info": {
            "codemirror_mode": {
                "name": "ipython",
                "version": 3
            },
            "file_extension": ".py",
            "mimetype": "text/x-python",
            "name": "python",
            "nbconvert_exporter": "python",
            "pygments_lexer": "ipython3",
            "version": "3.11.5"
        },
        "orig_nbformat": 4,
        "vscode": {
            "interpreter": {
                "hash": "412a67843bc730569eb6291c88878232ac2ff4005175d04214c4619cd3565889"
            }
        }
    },
    "nbformat": 4,
    "nbformat_minor": 2
}
