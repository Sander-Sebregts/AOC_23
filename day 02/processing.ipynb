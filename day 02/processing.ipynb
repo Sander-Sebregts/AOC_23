{
 "cells": [
  {
   "attachments": {},
   "cell_type": "markdown",
   "metadata": {},
   "source": [
    "# Init stuffs"
   ]
  },
  {
   "attachments": {},
   "cell_type": "markdown",
   "metadata": {},
   "source": [
    "### Imports"
   ]
  },
  {
   "cell_type": "code",
   "execution_count": 1,
   "metadata": {},
   "outputs": [],
   "source": [
    "import re"
   ]
  },
  {
   "attachments": {},
   "cell_type": "markdown",
   "metadata": {},
   "source": [
    "### Input data"
   ]
  },
  {
   "cell_type": "code",
   "execution_count": 2,
   "metadata": {},
   "outputs": [],
   "source": [
    "filename = \"./input_1.txt\"\n",
    "\n",
    "with open(file=filename) as f:\n",
    "    input_data_pt1 = f.read().splitlines()"
   ]
  },
  {
   "attachments": {},
   "cell_type": "markdown",
   "metadata": {},
   "source": [
    "# Pt. 1"
   ]
  },
  {
   "cell_type": "code",
   "execution_count": 8,
   "metadata": {},
   "outputs": [],
   "source": [
    "lookup = {\"red\": 12, \"green\": 13, \"blue\": 14}\n",
    "\n",
    "def check_if_possible(game_str: str) -> bool:\n",
    "    for color in lookup.keys():\n",
    "        regex = rf\"(\\d+) {color}\"\n",
    "        m = re.findall(pattern=regex, string=game_str)\n",
    "        values = [int(entry) for entry in m]\n",
    "        if max(values) > lookup[color]:\n",
    "            return False\n",
    "    return True\n"
   ]
  },
  {
   "cell_type": "code",
   "execution_count": 14,
   "metadata": {},
   "outputs": [
    {
     "name": "stdout",
     "output_type": "stream",
     "text": [
      "2771\n"
     ]
    }
   ],
   "source": [
    "total_possible = 0\n",
    "\n",
    "for count, game in enumerate(input_data_pt1):\n",
    "    total_possible += (count+1)*check_if_possible(game_str=game)\n",
    "\n",
    "print(total_possible)"
   ]
  },
  {
   "attachments": {},
   "cell_type": "markdown",
   "metadata": {},
   "source": [
    "# Init pt. 2"
   ]
  },
  {
   "attachments": {},
   "cell_type": "markdown",
   "metadata": {},
   "source": [
    "### More imports?"
   ]
  },
  {
   "cell_type": "code",
   "execution_count": 18,
   "metadata": {},
   "outputs": [],
   "source": [
    "import math"
   ]
  },
  {
   "attachments": {},
   "cell_type": "markdown",
   "metadata": {},
   "source": [
    "# Pt. 2"
   ]
  },
  {
   "cell_type": "code",
   "execution_count": 16,
   "metadata": {},
   "outputs": [],
   "source": [
    "def check_fewest_possible(game_str: str) -> list[int]:\n",
    "    minimum_cubes = []\n",
    "    for color in lookup.keys():\n",
    "        regex = rf\"(\\d+) {color}\"\n",
    "        m = re.findall(pattern=regex, string=game_str)\n",
    "        values = [int(entry) for entry in m]\n",
    "        minimum_cubes.append(max(values))\n",
    "    return minimum_cubes"
   ]
  },
  {
   "cell_type": "code",
   "execution_count": 20,
   "metadata": {},
   "outputs": [
    {
     "name": "stdout",
     "output_type": "stream",
     "text": [
      "70924\n"
     ]
    }
   ],
   "source": [
    "powers_sum = 0\n",
    "\n",
    "for count, game in enumerate(input_data_pt1):\n",
    "    fewest_cubes = check_fewest_possible(game_str=game)\n",
    "    powers_sum += math.prod(fewest_cubes)\n",
    "\n",
    "print(powers_sum)\n",
    "    "
   ]
  },
  {
   "cell_type": "code",
   "execution_count": null,
   "metadata": {},
   "outputs": [],
   "source": []
  }
 ],
 "metadata": {
  "kernelspec": {
   "display_name": "Python 3",
   "language": "python",
   "name": "python3"
  },
  "language_info": {
   "codemirror_mode": {
    "name": "ipython",
    "version": 3
   },
   "file_extension": ".py",
   "mimetype": "text/x-python",
   "name": "python",
   "nbconvert_exporter": "python",
   "pygments_lexer": "ipython3",
   "version": "3.9.6"
  },
  "orig_nbformat": 4,
  "vscode": {
   "interpreter": {
    "hash": "412a67843bc730569eb6291c88878232ac2ff4005175d04214c4619cd3565889"
   }
  }
 },
 "nbformat": 4,
 "nbformat_minor": 2
}
