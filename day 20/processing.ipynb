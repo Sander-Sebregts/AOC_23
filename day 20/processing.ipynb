{
    "cells": [
        {
            "attachments": {},
            "cell_type": "markdown",
            "metadata": {},
            "source": [
                "# Init stuffs"
            ]
        },
        {
            "attachments": {},
            "cell_type": "markdown",
            "metadata": {},
            "source": [
                "### Imports"
            ]
        },
        {
            "cell_type": "code",
            "execution_count": 1,
            "metadata": {},
            "outputs": [],
            "source": [
                "from collections import deque"
            ]
        },
        {
            "attachments": {},
            "cell_type": "markdown",
            "metadata": {},
            "source": [
                "### Input data"
            ]
        },
        {
            "cell_type": "code",
            "execution_count": 2,
            "metadata": {},
            "outputs": [],
            "source": [
                "filename = \"./input_1.txt\"\n",
                "test_filename = \"./input_2.txt\"\n",
                "\n",
                "with open(file=filename) as f:\n",
                "    data = f.read().splitlines()\n",
                "\n",
                "with open(file=test_filename) as f:\n",
                "    test_data = f.read().splitlines()"
            ]
        },
        {
            "attachments": {},
            "cell_type": "markdown",
            "metadata": {},
            "source": [
                "# Pt. 1"
            ]
        },
        {
            "cell_type": "code",
            "execution_count": 3,
            "metadata": {},
            "outputs": [],
            "source": [
                "def init_modules_inputs_outputs_state(module_config: list[str]) -> dict[dict]:\n",
                "    config_dict = {}\n",
                "    for line in module_config:\n",
                "        line_content = line.split()\n",
                "        if line_content[0][0] == \"b\":\n",
                "            dict_index = line_content[0]\n",
                "        else:\n",
                "            dict_index = line_content[0][1:]\n",
                "\n",
                "        config_dict[dict_index] = {\"module_type\": line_content[0][0],\n",
                "                                   \"module_state\": \"off\" if line_content[0][0] == \"%\" else [],\n",
                "                                   \"output\": \"low\",\n",
                "                                   \"sources\": [], \n",
                "                                   \"sinks\": [x.strip(\",\") for x in line_content[2:]]}\n",
                "    # Link all sources\n",
                "    added_entry = False\n",
                "    for k, v in config_dict.items():\n",
                "        for sink in v[\"sinks\"]:\n",
                "            try:\n",
                "                config_dict[sink][\"sources\"].append(k)\n",
                "            except KeyError:\n",
                "                added_entry = [sink, {\"module_type\": \"sink\", \"state\": \"low\", \"sources\": [k], \"sinks\": []}]\n",
                "\n",
                "    # Set state for &-type modules\n",
                "    for k, v in config_dict.items():\n",
                "        if config_dict[k][\"module_type\"] == \"&\":\n",
                "            for source in v[\"sources\"]:\n",
                "                config_dict[k][\"module_state\"].append(config_dict[source][\"output\"])\n",
                "    if added_entry:\n",
                "        config_dict[added_entry[0]] = added_entry[1]\n",
                "\n",
                "    return config_dict"
            ]
        },
        {
            "cell_type": "code",
            "execution_count": 4,
            "metadata": {},
            "outputs": [],
            "source": [
                "def process_signal(module_states: dict, module_name: str, input_signal: str, input_source: str) -> tuple[str, dict]:\n",
                "    module_type = module_states[module_name][\"module_type\"]\n",
                "    if module_type == \"%\":\n",
                "        if input_signal == \"high\":\n",
                "            return (\"none\", module_states)\n",
                "        if module_states[module_name][\"module_state\"] == \"off\":\n",
                "            module_states[module_name][\"module_state\"] = \"on\"\n",
                "            module_states[module_name][\"output\"] = \"high\"\n",
                "            return (\"high\", module_states)\n",
                "        else:\n",
                "            module_states[module_name][\"module_state\"] = \"off\"\n",
                "            module_states[module_name][\"output\"] = \"low\"\n",
                "            return (\"low\", module_states)\n",
                "\n",
                "    elif module_type == \"&\":\n",
                "        # update module state\n",
                "        input_index = module_states[module_name][\"sources\"].index(input_source)\n",
                "        module_states[module_name][\"module_state\"][input_index] = input_signal\n",
                "        if all([value == \"high\" for value in module_states[module_name][\"module_state\"]]):\n",
                "            return (\"low\", module_states)\n",
                "        return (\"high\", module_states)\n",
                "    else:\n",
                "        return (input_signal, module_states)\n",
                "\n",
                "def push_button(module_states: dict) -> dict:\n",
                "    signal_sequence = deque()\n",
                "    signal_sequence.append((\"broadcaster\", \"low\", \"button\"))\n",
                "\n",
                "    while signal_sequence:\n",
                "        signal_input_module, signal_value, signal_source_module = signal_sequence.popleft()\n",
                "        SIGNAL_HISTORY.append((signal_source_module, signal_value, signal_input_module))\n",
                "        output_signal, module_states = process_signal(module_states, signal_input_module, signal_value, signal_source_module)\n",
                "        if output_signal != \"none\":\n",
                "            for output_module in module_states[signal_input_module][\"sinks\"]:\n",
                "                signal_sequence.append((output_module, output_signal, signal_input_module))\n",
                "    return module_states"
            ]
        },
        {
            "cell_type": "code",
            "execution_count": 5,
            "metadata": {},
            "outputs": [
                {
                    "name": "stdout",
                    "output_type": "stream",
                    "text": [
                        "834323022\n"
                    ]
                }
            ],
            "source": [
                "module_states = init_modules_inputs_outputs_state(module_config=data)\n",
                "SIGNAL_HISTORY = []\n",
                "for _ in range(1000):\n",
                "    module_states = push_button(module_states=module_states)\n",
                "\n",
                "print(len([x for x in SIGNAL_HISTORY if x[1] == \"low\"])*len([x for x in SIGNAL_HISTORY if x[1] == \"high\"]))"
            ]
        },
        {
            "attachments": {},
            "cell_type": "markdown",
            "metadata": {},
            "source": [
                "# Pt. 2"
            ]
        },
        {
            "cell_type": "code",
            "execution_count": 19,
            "metadata": {},
            "outputs": [
                {
                    "data": {
                        "text/plain": [
                            "225386464601017"
                        ]
                    },
                    "execution_count": 19,
                    "metadata": {},
                    "output_type": "execute_result"
                }
            ],
            "source": [
                "import math\n",
                "\n",
                "module_states = init_modules_inputs_outputs_state(module_config=data)\n",
                "SIGNAL_HISTORY = []\n",
                "presses = 0\n",
                "\n",
                "# Get the important signals, all rs inputs high triggers rx low\n",
                "source_repetition = {x: 0 for x in module_states[\"rs\"][\"sources\"]}\n",
                "\n",
                "while True:\n",
                "    presses += 1\n",
                "    module_states = push_button(module_states=module_states)\n",
                "\n",
                "    for source in source_repetition.keys():\n",
                "        if (source, \"high\", \"rs\") in SIGNAL_HISTORY:\n",
                "            source_repetition[source] = presses\n",
                "    SIGNAL_HISTORY = []\n",
                "    if all([value != 0 for value in source_repetition.values()]):\n",
                "        break\n",
                "    \n",
                "math.lcm(*[value for value in source_repetition.values()])"
            ]
        },
        {
            "cell_type": "code",
            "execution_count": null,
            "metadata": {},
            "outputs": [],
            "source": []
        }
    ],
    "metadata": {
        "kernelspec": {
            "display_name": "Python 3",
            "language": "python",
            "name": "python3"
        },
        "language_info": {
            "codemirror_mode": {
                "name": "ipython",
                "version": 3
            },
            "file_extension": ".py",
            "mimetype": "text/x-python",
            "name": "python",
            "nbconvert_exporter": "python",
            "pygments_lexer": "ipython3",
            "version": "3.11.5"
        },
        "orig_nbformat": 4,
        "vscode": {
            "interpreter": {
                "hash": "412a67843bc730569eb6291c88878232ac2ff4005175d04214c4619cd3565889"
            }
        }
    },
    "nbformat": 4,
    "nbformat_minor": 2
}
