{
    "cells": [
        {
            "attachments": {},
            "cell_type": "markdown",
            "metadata": {},
            "source": [
                "# Init stuffs"
            ]
        },
        {
            "attachments": {},
            "cell_type": "markdown",
            "metadata": {},
            "source": [
                "### Imports"
            ]
        },
        {
            "cell_type": "code",
            "execution_count": 41,
            "metadata": {},
            "outputs": [],
            "source": [
                "import networkx as nx\n",
                "from pyvis.network import Network"
            ]
        },
        {
            "attachments": {},
            "cell_type": "markdown",
            "metadata": {},
            "source": [
                "### Input data"
            ]
        },
        {
            "cell_type": "code",
            "execution_count": 1,
            "metadata": {},
            "outputs": [],
            "source": [
                "filename = \"./input_1.txt\"\n",
                "test_filename = \"./input_2.txt\"\n",
                "\n",
                "with open(file=filename) as f:\n",
                "    data = f.read().splitlines()\n",
                "\n",
                "with open(file=test_filename) as f:\n",
                "    test_data = f.read().splitlines()"
            ]
        },
        {
            "attachments": {},
            "cell_type": "markdown",
            "metadata": {},
            "source": [
                "# Pt. 1"
            ]
        },
        {
            "cell_type": "code",
            "execution_count": 33,
            "metadata": {},
            "outputs": [],
            "source": [
                "def get_all_nodes(connections: list[str]) -> set[str]:\n",
                "    components = set()\n",
                "    for line in connections:\n",
                "        components |= set(line.replace(\":\",\"\").split())\n",
                "    return components\n",
                "\n",
                "def connect_components(connections: list[str], components: set) -> dict:\n",
                "    connected_components = {}\n",
                "    for component in components:\n",
                "        connected_components[component] = set()\n",
                "\n",
                "    for line in connections:\n",
                "        source, rest = line.split(\":\")\n",
                "        sinks = rest.strip().split(\" \")\n",
                "\n",
                "        connected_components[source] |= set(sinks)\n",
                "        for sink in sinks:\n",
                "            connected_components[sink] |= set([source])\n",
                "    return connected_components"
            ]
        },
        {
            "cell_type": "code",
            "execution_count": 53,
            "metadata": {},
            "outputs": [],
            "source": [
                "connections = data\n",
                "components = get_all_nodes(connections=connections)\n",
                "connected_components = connect_components(connections=connections, components=components)"
            ]
        },
        {
            "cell_type": "code",
            "execution_count": 69,
            "metadata": {},
            "outputs": [
                {
                    "name": "stdout",
                    "output_type": "stream",
                    "text": [
                        "555856\n"
                    ]
                }
            ],
            "source": [
                "graph = nx.DiGraph()\n",
                "for k,vs in connected_components.items():\n",
                "  for v in vs:\n",
                "    graph.add_edge(k,v,capacity=1.0)\n",
                "    graph.add_edge(v,k,capacity=1.0)\n",
                "\n",
                "for node_1 in [list(connected_components.keys())[0]]:\n",
                "  for node_2 in connected_components.keys():\n",
                "    if node_1!=node_2:\n",
                "      cut_value, (subset_1,subset_2) = nx.minimum_cut(graph, node_1, node_2)\n",
                "      if cut_value == 3:\n",
                "        print(len(subset_1)*len(subset_2))\n",
                "        break"
            ]
        },
        {
            "attachments": {},
            "cell_type": "markdown",
            "metadata": {},
            "source": [
                "# Pt. 2"
            ]
        },
        {
            "cell_type": "markdown",
            "metadata": {},
            "source": [
                "## Free stars for everyone!! ⭐⭐"
            ]
        },
        {
            "cell_type": "code",
            "execution_count": null,
            "metadata": {},
            "outputs": [],
            "source": []
        }
    ],
    "metadata": {
        "kernelspec": {
            "display_name": "Python 3",
            "language": "python",
            "name": "python3"
        },
        "language_info": {
            "codemirror_mode": {
                "name": "ipython",
                "version": 3
            },
            "file_extension": ".py",
            "mimetype": "text/x-python",
            "name": "python",
            "nbconvert_exporter": "python",
            "pygments_lexer": "ipython3",
            "version": "3.11.5"
        },
        "orig_nbformat": 4,
        "vscode": {
            "interpreter": {
                "hash": "412a67843bc730569eb6291c88878232ac2ff4005175d04214c4619cd3565889"
            }
        }
    },
    "nbformat": 4,
    "nbformat_minor": 2
}
