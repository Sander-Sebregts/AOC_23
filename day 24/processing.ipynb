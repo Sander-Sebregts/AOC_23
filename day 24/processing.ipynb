{
    "cells": [
        {
            "attachments": {},
            "cell_type": "markdown",
            "metadata": {},
            "source": [
                "# Init stuffs"
            ]
        },
        {
            "attachments": {},
            "cell_type": "markdown",
            "metadata": {},
            "source": [
                "### Imports"
            ]
        },
        {
            "cell_type": "code",
            "execution_count": 1,
            "metadata": {},
            "outputs": [],
            "source": [
                "from itertools import combinations"
            ]
        },
        {
            "attachments": {},
            "cell_type": "markdown",
            "metadata": {},
            "source": [
                "### Input data"
            ]
        },
        {
            "cell_type": "code",
            "execution_count": 2,
            "metadata": {},
            "outputs": [],
            "source": [
                "filename = \"./input_1.txt\"\n",
                "test_filename = \"./input_2.txt\"\n",
                "\n",
                "with open(file=filename) as f:\n",
                "    data = f.read().splitlines()\n",
                "\n",
                "with open(file=test_filename) as f:\n",
                "    test_data = f.read().splitlines()"
            ]
        },
        {
            "attachments": {},
            "cell_type": "markdown",
            "metadata": {},
            "source": [
                "# Pt. 1"
            ]
        },
        {
            "cell_type": "code",
            "execution_count": 3,
            "metadata": {},
            "outputs": [],
            "source": [
                "trajectories = data\n",
                "eqs = {}\n",
                "\n",
                "for i, trajectory in enumerate(trajectories):\n",
                "    location, deltas = trajectory.split(\"@\")\n",
                "    location = [int(i) for i in location.split(\",\")]\n",
                "    deltas = [int(i) for i in deltas.split(\",\")]\n",
                "\n",
                "    eqs[i] = [location, deltas]"
            ]
        },
        {
            "cell_type": "code",
            "execution_count": 4,
            "metadata": {},
            "outputs": [
                {
                    "data": {
                        "text/plain": [
                            "27732"
                        ]
                    },
                    "execution_count": 4,
                    "metadata": {},
                    "output_type": "execute_result"
                }
            ],
            "source": [
                "colliding = []\n",
                "min = 200000000000000\n",
                "max = 400000000000000\n",
                "for combi in combinations(range(len(trajectories)),2):\n",
                "    one = eqs[combi[0]]\n",
                "    two = eqs[combi[1]]\n",
                "    A = one[1][0]\n",
                "    B = one[0][0]\n",
                "    C = one[1][1]\n",
                "    D = one[0][1]\n",
                "\n",
                "    G = two[1][0]\n",
                "    H = two[0][0]\n",
                "    I = two[1][1]\n",
                "    J = two[0][1]\n",
                "\n",
                "    try:\n",
                "        x_i = (B*C/A - I*H/G - D + J) / (C/A - I/G)\n",
                "        y_i = C/A*(x_i-B) + D\n",
                "        t_i1 = (x_i-B)/A\n",
                "        t_i2 = (x_i-H)/G\n",
                "    except ZeroDivisionError:\n",
                "        continue\n",
                "\n",
                "    if min <= x_i <= max and min <= y_i <= max and t_i1 > 0 and t_i2 > 0:\n",
                "        colliding.append(combi)\n",
                "\n",
                "len(colliding)"
            ]
        },
        {
            "cell_type": "code",
            "execution_count": 5,
            "metadata": {},
            "outputs": [],
            "source": [
                "# x = at+b                 ht+g\n",
                "# t=(x-b)/a\n",
                "\n",
                "# y = ct+d                 it+j\n",
                "\n",
                "# y=c(x-b)/a+d = c/a*x-c/a*b+d\n",
                "\n",
                "# y2 = i(x-h)/g+j = i/g*x-i/g*h+j\n",
                "\n",
                "# (c/a-i/g)x = c/a*b-i/g*h+j-d"
            ]
        },
        {
            "attachments": {},
            "cell_type": "markdown",
            "metadata": {},
            "source": [
                "# Init pt. 2"
            ]
        },
        {
            "cell_type": "code",
            "execution_count": 6,
            "metadata": {},
            "outputs": [],
            "source": [
                "from z3 import *"
            ]
        },
        {
            "attachments": {},
            "cell_type": "markdown",
            "metadata": {},
            "source": [
                "# Pt. 2"
            ]
        },
        {
            "cell_type": "code",
            "execution_count": 11,
            "metadata": {},
            "outputs": [],
            "source": [
                "\n",
                "x,y,z,vx,vy,vz = Int('x'),Int('y'),Int('z'),Int('vx'),Int('vy'),Int('vz')\n",
                "T = [Int(f'T{i}') for i in range(len(eqs))]\n",
                "SOLVE = Solver()\n",
                "for i in range(3):\n",
                "  SOLVE.add(x + T[i]*vx - eqs[i][0][0] - T[i]*eqs[i][1][0] == 0)\n",
                "  SOLVE.add(y + T[i]*vy - eqs[i][0][1] - T[i]*eqs[i][1][1] == 0)\n",
                "  SOLVE.add(z + T[i]*vz - eqs[i][0][2] - T[i]*eqs[i][1][2] == 0)"
            ]
        },
        {
            "cell_type": "code",
            "execution_count": 12,
            "metadata": {},
            "outputs": [],
            "source": [
                "res = SOLVE.check()"
            ]
        },
        {
            "cell_type": "code",
            "execution_count": 13,
            "metadata": {},
            "outputs": [
                {
                    "name": "stdout",
                    "output_type": "stream",
                    "text": [
                        "641619849766168\n"
                    ]
                }
            ],
            "source": [
                "M = SOLVE.model()\n",
                "print(M.eval(x+y+z))"
            ]
        },
        {
            "cell_type": "code",
            "execution_count": null,
            "metadata": {},
            "outputs": [],
            "source": []
        }
    ],
    "metadata": {
        "kernelspec": {
            "display_name": "Python 3",
            "language": "python",
            "name": "python3"
        },
        "language_info": {
            "codemirror_mode": {
                "name": "ipython",
                "version": 3
            },
            "file_extension": ".py",
            "mimetype": "text/x-python",
            "name": "python",
            "nbconvert_exporter": "python",
            "pygments_lexer": "ipython3",
            "version": "3.11.5"
        },
        "orig_nbformat": 4,
        "vscode": {
            "interpreter": {
                "hash": "412a67843bc730569eb6291c88878232ac2ff4005175d04214c4619cd3565889"
            }
        }
    },
    "nbformat": 4,
    "nbformat_minor": 2
}
