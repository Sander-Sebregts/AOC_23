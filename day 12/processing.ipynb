{
    "cells": [
        {
            "attachments": {},
            "cell_type": "markdown",
            "metadata": {},
            "source": [
                "# Init stuffs"
            ]
        },
        {
            "attachments": {},
            "cell_type": "markdown",
            "metadata": {},
            "source": [
                "### Imports"
            ]
        },
        {
            "cell_type": "code",
            "execution_count": 106,
            "metadata": {},
            "outputs": [],
            "source": [
                "import re\n",
                "import exrex # only used in the bad solution\n",
                "\n",
                "from functools import lru_cache"
            ]
        },
        {
            "attachments": {},
            "cell_type": "markdown",
            "metadata": {},
            "source": [
                "### Input data"
            ]
        },
        {
            "cell_type": "code",
            "execution_count": 107,
            "metadata": {},
            "outputs": [],
            "source": [
                "filename = \"./input_1.txt\"\n",
                "\n",
                "with open(file=filename) as f:\n",
                "    input_data_pt1 = f.read().splitlines()"
            ]
        },
        {
            "attachments": {},
            "cell_type": "markdown",
            "metadata": {},
            "source": [
                "# Pt. 1"
            ]
        },
        {
            "cell_type": "code",
            "execution_count": 108,
            "metadata": {},
            "outputs": [],
            "source": [
                "def find_arrangements(configuration: str, hints: list[int]) -> str:\n",
                "    arrangements = 0\n",
                "\n",
                "    if len(configuration) == sum(hints)+len(hints)-1:\n",
                "        return 1\n",
                "    \n",
                "    re_pattern = f\"-*#{{{hints[0]}}}\"\n",
                "    for number in hints[1:]:\n",
                "        re_pattern += f\"-+#{{{number}}}\"\n",
                "    re_pattern += \"-*\"\n",
                "    \n",
                "    all_possible_strings = [string for string in exrex.generate(s=re_pattern, limit=len(configuration)-(sum(hints)+len(hints)-1)+1) if len(string) == len(configuration)]\n",
                "\n",
                "    for string in all_possible_strings:\n",
                "        if re.match(pattern=configuration.replace(\".\",\"-\").replace(\"?\",\".\"), string=string):\n",
                "            arrangements += 1\n",
                "\n",
                "    return arrangements"
            ]
        },
        {
            "cell_type": "code",
            "execution_count": 110,
            "metadata": {},
            "outputs": [
                {
                    "data": {
                        "text/plain": [
                            "7407"
                        ]
                    },
                    "execution_count": 110,
                    "metadata": {},
                    "output_type": "execute_result"
                }
            ],
            "source": [
                "count = []\n",
                "\n",
                "for line in input_data_pt1:\n",
                "    configuration, hints = line.split()\n",
                "    hint_numbers = [int(x) for x in hints.split(\",\")]\n",
                "    count.append(find_arrangements(configuration = configuration, hints = hint_numbers))\n",
                "\n",
                "sum(count)\n",
                "    "
            ]
        },
        {
            "cell_type": "markdown",
            "metadata": {},
            "source": [
                "# Pt. 1 (ver. 2)"
            ]
        },
        {
            "cell_type": "code",
            "execution_count": 120,
            "metadata": {},
            "outputs": [],
            "source": [
                "@lru_cache(maxsize=500000)\n",
                "def place_broken_springs(input_configuration: str, groups: tuple[int]) -> int:\n",
                "    found_matches = 0\n",
                "    if len(groups) == 1:\n",
                "        for i in range(len(input_configuration) - groups[0] + 1):\n",
                "            input_subset = input_configuration[i : i + groups[0]]\n",
                "            rest = input_configuration[i+groups[0]:]\n",
                "            if re.match(pattern=rf\"[#?]{{{groups[0]}}}\", string=input_subset) and (\n",
                "                input_configuration[i - 1] != \"#\" if i > 0 else True\n",
                "            ) and not re.findall(pattern = \"#\", string = rest) and not re.findall(pattern=\"#\", string = input_configuration[:i]):\n",
                "                found_matches += 1\n",
                "        return found_matches\n",
                "\n",
                "    for i in range(len(input_configuration) - sum(groups) - len(groups) + 2):\n",
                "        input_subset_plus_one = input_configuration[i : i + groups[0] + 1]\n",
                "        if re.match(\n",
                "            pattern=rf\"[#?]{{{groups[0]}}}[\\.?]\", string=input_subset_plus_one\n",
                "        ) and not re.findall(pattern=\"#\", string = input_configuration[:i]):\n",
                "            found_matches += place_broken_springs(\n",
                "                input_configuration=input_configuration[i + groups[0] + 1 :],\n",
                "                groups=groups[1:],\n",
                "            )\n",
                "    return found_matches"
            ]
        },
        {
            "cell_type": "code",
            "execution_count": 113,
            "metadata": {},
            "outputs": [
                {
                    "data": {
                        "text/plain": [
                            "7407"
                        ]
                    },
                    "execution_count": 113,
                    "metadata": {},
                    "output_type": "execute_result"
                }
            ],
            "source": [
                "solutions = []\n",
                "for line in input_data_pt1:\n",
                "    line_configuration, groups = line.split()\n",
                "    groups = tuple([int(entry) for entry in groups.split(\",\")])\n",
                "    solutions.append(place_broken_springs(input_configuration=line_configuration, groups=groups))\n",
                "\n",
                "sum(solutions)"
            ]
        },
        {
            "attachments": {},
            "cell_type": "markdown",
            "metadata": {},
            "source": [
                "# Pt. 2"
            ]
        },
        {
            "cell_type": "code",
            "execution_count": null,
            "metadata": {},
            "outputs": [],
            "source": [
                "# NOTE: This does not work (fast enough)\n",
                "count = 0\n",
                "for index, line in enumerate(input_data_pt1):\n",
                "    configuration, hints = line.split()\n",
                "    configuration = configuration+\"?\"+configuration+\"?\"+configuration+\"?\"+configuration+\"?\"+configuration\n",
                "    hints = 5*hints\n",
                "    count += find_arrangements(configuration = configuration, hints = hint_numbers)\n",
                "    print(index)\n",
                "\n",
                "print(count)    "
            ]
        },
        {
            "cell_type": "code",
            "execution_count": 121,
            "metadata": {},
            "outputs": [
                {
                    "data": {
                        "text/plain": [
                            "30568243604962"
                        ]
                    },
                    "execution_count": 121,
                    "metadata": {},
                    "output_type": "execute_result"
                }
            ],
            "source": [
                "count = []\n",
                "for index, line in enumerate(input_data_pt1):\n",
                "    line_configuration, groups = line.split()\n",
                "    line_configuration = (\n",
                "        line_configuration\n",
                "        + \"?\"\n",
                "        + line_configuration\n",
                "        + \"?\"\n",
                "        + line_configuration\n",
                "        + \"?\"\n",
                "        + line_configuration\n",
                "        + \"?\"\n",
                "        + line_configuration\n",
                "    )\n",
                "    groups = tuple(5*[int(entry) for entry in groups.split(\",\")])\n",
                "    count.append(place_broken_springs(input_configuration=line_configuration, groups=groups))\n",
                "\n",
                "sum(count)"
            ]
        },
        {
            "cell_type": "code",
            "execution_count": 122,
            "metadata": {},
            "outputs": [
                {
                    "data": {
                        "text/plain": [
                            "CacheInfo(hits=248170, misses=91253, maxsize=500000, currsize=91253)"
                        ]
                    },
                    "execution_count": 122,
                    "metadata": {},
                    "output_type": "execute_result"
                }
            ],
            "source": [
                "place_broken_springs.cache_info()"
            ]
        },
        {
            "cell_type": "code",
            "execution_count": null,
            "metadata": {},
            "outputs": [],
            "source": []
        }
    ],
    "metadata": {
        "kernelspec": {
            "display_name": "Python 3",
            "language": "python",
            "name": "python3"
        },
        "language_info": {
            "codemirror_mode": {
                "name": "ipython",
                "version": 3
            },
            "file_extension": ".py",
            "mimetype": "text/x-python",
            "name": "python",
            "nbconvert_exporter": "python",
            "pygments_lexer": "ipython3",
            "version": "3.9.6"
        },
        "orig_nbformat": 4,
        "vscode": {
            "interpreter": {
                "hash": "412a67843bc730569eb6291c88878232ac2ff4005175d04214c4619cd3565889"
            }
        }
    },
    "nbformat": 4,
    "nbformat_minor": 2
}
