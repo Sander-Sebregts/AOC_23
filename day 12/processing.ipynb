{
    "cells": [
        {
            "attachments": {},
            "cell_type": "markdown",
            "metadata": {},
            "source": [
                "# Init stuffs"
            ]
        },
        {
            "attachments": {},
            "cell_type": "markdown",
            "metadata": {},
            "source": [
                "### Imports"
            ]
        },
        {
            "cell_type": "code",
            "execution_count": 49,
            "metadata": {},
            "outputs": [],
            "source": [
                "import re\n",
                "import exrex"
            ]
        },
        {
            "attachments": {},
            "cell_type": "markdown",
            "metadata": {},
            "source": [
                "### Input data"
            ]
        },
        {
            "cell_type": "code",
            "execution_count": 109,
            "metadata": {},
            "outputs": [],
            "source": [
                "filename = \"./input_1.txt\"\n",
                "\n",
                "with open(file=filename) as f:\n",
                "    input_data_pt1 = f.read().splitlines()"
            ]
        },
        {
            "attachments": {},
            "cell_type": "markdown",
            "metadata": {},
            "source": [
                "# Pt. 1"
            ]
        },
        {
            "cell_type": "code",
            "execution_count": 110,
            "metadata": {},
            "outputs": [],
            "source": [
                "def find_arrangements(configuration: str, hints: list[int]) -> str:\n",
                "    arrangements = 0\n",
                "\n",
                "    if len(configuration) == sum(hints)+len(hints)-1:\n",
                "        return 1\n",
                "    \n",
                "    re_pattern = f\"-*#{{{hints[0]}}}\"\n",
                "    for number in hints[1:]:\n",
                "        re_pattern += f\"-+#{{{number}}}\"\n",
                "    re_pattern += \"-*\"\n",
                "    \n",
                "    all_possible_strings = [string for string in exrex.generate(s=re_pattern, limit=len(configuration)-(sum(hints)+len(hints)-1)+1) if len(string) == len(configuration)]\n",
                "\n",
                "    for string in all_possible_strings:\n",
                "        if re.match(pattern=configuration.replace(\".\",\"-\").replace(\"?\",\".\"), string=string):\n",
                "            arrangements += 1\n",
                "\n",
                "    return arrangements"
            ]
        },
        {
            "cell_type": "code",
            "execution_count": 111,
            "metadata": {},
            "outputs": [
                {
                    "name": "stdout",
                    "output_type": "stream",
                    "text": [
                        "7407\n"
                    ]
                }
            ],
            "source": [
                "count = 0\n",
                "\n",
                "for line in input_data_pt1:\n",
                "    configuration, hints = line.split()\n",
                "    hint_numbers = [int(x) for x in hints.split(\",\")]\n",
                "    count += find_arrangements(configuration = configuration, hints = hint_numbers)\n",
                "    # print(find_arrangements(configuration = configuration, hints = hint_numbers))\n",
                "    # print(line)\n",
                "\n",
                "print(count)\n",
                "    "
            ]
        },
        {
            "attachments": {},
            "cell_type": "markdown",
            "metadata": {},
            "source": [
                "# Pt. 2"
            ]
        },
        {
            "cell_type": "code",
            "execution_count": null,
            "metadata": {},
            "outputs": [],
            "source": [
                "# NOTE: This does not work (fast enough)\n",
                "count = 0\n",
                "for index, line in enumerate(input_data_pt1):\n",
                "    configuration, hints = line.split()\n",
                "    configuration = configuration+\"?\"+configuration+\"?\"+configuration+\"?\"+configuration+\"?\"+configuration\n",
                "    hints = 5*hints\n",
                "    count += find_arrangements(configuration = configuration, hints = hint_numbers)\n",
                "    print(index)\n",
                "\n",
                "print(count)    "
            ]
        },
        {
            "cell_type": "code",
            "execution_count": null,
            "metadata": {},
            "outputs": [],
            "source": []
        }
    ],
    "metadata": {
        "kernelspec": {
            "display_name": "Python 3",
            "language": "python",
            "name": "python3"
        },
        "language_info": {
            "codemirror_mode": {
                "name": "ipython",
                "version": 3
            },
            "file_extension": ".py",
            "mimetype": "text/x-python",
            "name": "python",
            "nbconvert_exporter": "python",
            "pygments_lexer": "ipython3",
            "version": "3.11.5"
        },
        "orig_nbformat": 4,
        "vscode": {
            "interpreter": {
                "hash": "412a67843bc730569eb6291c88878232ac2ff4005175d04214c4619cd3565889"
            }
        }
    },
    "nbformat": 4,
    "nbformat_minor": 2
}
