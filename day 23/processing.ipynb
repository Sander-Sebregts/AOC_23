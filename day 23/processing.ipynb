{
    "cells": [
        {
            "attachments": {},
            "cell_type": "markdown",
            "metadata": {},
            "source": [
                "# Init stuffs"
            ]
        },
        {
            "attachments": {},
            "cell_type": "markdown",
            "metadata": {},
            "source": [
                "### Imports"
            ]
        },
        {
            "cell_type": "code",
            "execution_count": null,
            "metadata": {},
            "outputs": [],
            "source": []
        },
        {
            "attachments": {},
            "cell_type": "markdown",
            "metadata": {},
            "source": [
                "### Input data"
            ]
        },
        {
            "cell_type": "code",
            "execution_count": 1,
            "metadata": {},
            "outputs": [],
            "source": [
                "filename = \"./input_1.txt\"\n",
                "test_filename = \"./input_2.txt\"\n",
                "\n",
                "with open(file=filename) as f:\n",
                "    data = f.read().splitlines()\n",
                "\n",
                "with open(file=test_filename) as f:\n",
                "    test_data = f.read().splitlines()"
            ]
        },
        {
            "attachments": {},
            "cell_type": "markdown",
            "metadata": {},
            "source": [
                "# Pt. 1"
            ]
        },
        {
            "cell_type": "code",
            "execution_count": 2,
            "metadata": {},
            "outputs": [],
            "source": [
                "DELTAS = {\"^\": [0, -1], \">\": [1,0], \"v\": [0,1], \"<\": [-1,0]}\n",
                "\n",
                "def walk_longest_route(grid: list[list[str]], follow_slopes: bool = True) -> tuple[int, list[tuple]]:\n",
                "    active_paths = [[(1,0)]]\n",
                "    found_paths = []\n",
                "\n",
                "    while active_paths:\n",
                "        current_path = active_paths.pop()\n",
                "        previous_grid_char = grid[current_path[-1][1]][current_path[-1][0]]\n",
                "        for delta in DELTAS.values():\n",
                "            new_x, new_y = [current_path[-1][i]+delta[i] for i in range(2)]\n",
                "            if (new_x, new_y) in current_path:\n",
                "                continue\n",
                "\n",
                "            if not 0 <= new_x < len(grid[0]) or not 0 <= new_y < len(grid):\n",
                "                continue\n",
                "\n",
                "            if previous_grid_char in DELTAS.keys() and follow_slopes:\n",
                "                if delta != DELTAS[previous_grid_char]:\n",
                "                    continue\n",
                "\n",
                "            next_grid_char = grid[new_y][new_x]\n",
                "            if next_grid_char == \"#\":\n",
                "                continue\n",
                "\n",
                "            if new_y == len(grid) - 1:\n",
                "                found_paths.append(current_path)\n",
                "                continue\n",
                "\n",
                "            active_paths.append(current_path+[(new_x, new_y)])\n",
                "    \n",
                "    return max([len(path) for path in found_paths]), found_paths\n"
            ]
        },
        {
            "cell_type": "code",
            "execution_count": 3,
            "metadata": {},
            "outputs": [
                {
                    "data": {
                        "text/plain": [
                            "2354"
                        ]
                    },
                    "execution_count": 3,
                    "metadata": {},
                    "output_type": "execute_result"
                }
            ],
            "source": [
                "grid = data\n",
                "max_length, paths = walk_longest_route(grid=grid)\n",
                "max_length"
            ]
        },
        {
            "attachments": {},
            "cell_type": "markdown",
            "metadata": {},
            "source": [
                "# Init pt. 2"
            ]
        },
        {
            "attachments": {},
            "cell_type": "markdown",
            "metadata": {},
            "source": [
                "### More imports?"
            ]
        },
        {
            "cell_type": "code",
            "execution_count": null,
            "metadata": {},
            "outputs": [],
            "source": []
        },
        {
            "attachments": {},
            "cell_type": "markdown",
            "metadata": {},
            "source": [
                "### Input data (again)"
            ]
        },
        {
            "cell_type": "code",
            "execution_count": 4,
            "metadata": {},
            "outputs": [],
            "source": [
                "# filename = \"./input_2.txt\"\n",
                "\n",
                "# with open(file=filename) as f:\n",
                "#     input_data_pt2 = f.read().splitlines()"
            ]
        },
        {
            "attachments": {},
            "cell_type": "markdown",
            "metadata": {},
            "source": [
                "# Pt. 2"
            ]
        },
        {
            "cell_type": "code",
            "execution_count": 29,
            "metadata": {},
            "outputs": [],
            "source": [
                "def find_nodes(grid: list[list[str]]) -> dict:\n",
                "    found_nodes = 2\n",
                "    nodes = {\n",
                "        0: {\n",
                "            \"location\": (*[i for i in range(len(data[0])) if data[0][i] == \".\"], 0),\n",
                "            \"connects_to\": {}\n",
                "            },\n",
                "        1: {\n",
                "            \"location\": (*[i for i in range(len(grid[0])) if data[len(grid)-1][i] == \".\"], len(grid)-1),\n",
                "            \"connects_to\": {}\n",
                "        }\n",
                "    }\n",
                "    for y in range(1,len(grid)-1):\n",
                "        for x in range(1,len(grid[0])-1):\n",
                "            if grid[y][x] != \"#\":\n",
                "                neighbors = 0\n",
                "                for delta in DELTAS.values():\n",
                "                    if grid[y+delta[1]][x+delta[0]] != \"#\":\n",
                "                        neighbors += 1\n",
                "                if neighbors > 2:\n",
                "                    nodes[found_nodes] = {\"location\": (x,y), \"connects_to\": {}}\n",
                "                    found_nodes += 1\n",
                "    return nodes\n",
                "\n",
                "def follow_path(grid: list[list[str]], nodes: dict, path: list[tuple]) -> tuple[int,int]:\n",
                "    while path[-1] not in [v[\"location\"] for v in nodes.values()]:\n",
                "        for delta in DELTAS.values():\n",
                "            new_x, new_y = [path[-1][i]+delta[i] for i in range(2)]\n",
                "            if (new_x, new_y) in path:\n",
                "                continue\n",
                "\n",
                "            if not 0 <= new_x < len(grid[0]) or not 0 <= new_y < len(grid):\n",
                "                continue\n",
                "\n",
                "            next_grid_char = grid[new_y][new_x]\n",
                "            if next_grid_char == \"#\":\n",
                "                continue\n",
                "\n",
                "            path.append((new_x, new_y))\n",
                "            break\n",
                "\n",
                "    return (*[k for k,v in nodes.items() if v[\"location\"] == path[-1]], len(path)-1, (path[-1][0]-path[-2][0], path[-1][1]-path[-2][1]))\n",
                "    \n",
                "\n",
                "def connect_nodes(grid: list[list[str]], nodes: dict) -> dict:\n",
                "    local_nodes = nodes.copy()\n",
                "    for k, v in local_nodes.items():\n",
                "        for delta in DELTAS.values():\n",
                "            if delta in [connection[1] for connection in v[\"connects_to\"].values()]:\n",
                "                continue\n",
                "\n",
                "            new_x = v[\"location\"][0]+delta[0]\n",
                "            new_y = v[\"location\"][1]+delta[1]\n",
                "\n",
                "            if not 0 <= new_x < len(grid[0]) or not 0 <= new_y < len(grid):\n",
                "                continue\n",
                "\n",
                "            if grid[new_y][new_x] != \"#\":\n",
                "                path = [v[\"location\"], (new_x, new_y)]\n",
                "                next_node, distance, last_direction = follow_path(grid=grid, nodes=local_nodes, path=path)\n",
                "                local_nodes[k][\"connects_to\"][next_node] = (distance, (delta[0], delta[1]))\n",
                "                local_nodes[next_node][\"connects_to\"][k] = (distance, (-last_direction[0], -last_direction[1]))\n",
                "    return local_nodes\n",
                "\n",
                "def find_longest_path(nodes: dict) -> int:\n",
                "    routes = [[[0], 0]]\n",
                "    found_routes = []\n",
                "    while routes:\n",
                "        route = routes.pop()\n",
                "        if route[0][-1] == 1:\n",
                "            found_routes.append(route)\n",
                "            continue\n",
                "        \n",
                "        connectable_nodes = [k for k in nodes[route[0][-1]][\"connects_to\"].keys() if k not in route[0]]\n",
                "\n",
                "        if len(connectable_nodes) == 0:\n",
                "            continue\n",
                "\n",
                "        for next_node in connectable_nodes:\n",
                "            routes.append([route[0]+[next_node], route[1]+nodes[route[0][-1]][\"connects_to\"][next_node][0]])\n",
                "    return found_routes"
            ]
        },
        {
            "cell_type": "code",
            "execution_count": 22,
            "metadata": {},
            "outputs": [],
            "source": [
                "nodes = find_nodes(grid=grid)\n",
                "connected_nodes = connect_nodes(grid=grid, nodes=nodes)\n",
                "long_paths = find_longest_path(nodes=connected_nodes)\n",
                "max([path[-1] for path in long_paths])\n"
            ]
        },
        {
            "cell_type": "code",
            "execution_count": null,
            "metadata": {},
            "outputs": [],
            "source": []
        }
    ],
    "metadata": {
        "kernelspec": {
            "display_name": "Python 3",
            "language": "python",
            "name": "python3"
        },
        "language_info": {
            "codemirror_mode": {
                "name": "ipython",
                "version": 3
            },
            "file_extension": ".py",
            "mimetype": "text/x-python",
            "name": "python",
            "nbconvert_exporter": "python",
            "pygments_lexer": "ipython3",
            "version": "3.11.5"
        },
        "orig_nbformat": 4,
        "vscode": {
            "interpreter": {
                "hash": "412a67843bc730569eb6291c88878232ac2ff4005175d04214c4619cd3565889"
            }
        }
    },
    "nbformat": 4,
    "nbformat_minor": 2
}
