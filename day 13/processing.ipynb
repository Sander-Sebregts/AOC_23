{
    "cells": [
        {
            "attachments": {},
            "cell_type": "markdown",
            "metadata": {},
            "source": [
                "# Init stuffs"
            ]
        },
        {
            "attachments": {},
            "cell_type": "markdown",
            "metadata": {},
            "source": [
                "### Imports"
            ]
        },
        {
            "cell_type": "code",
            "execution_count": null,
            "metadata": {},
            "outputs": [],
            "source": []
        },
        {
            "attachments": {},
            "cell_type": "markdown",
            "metadata": {},
            "source": [
                "### Input data"
            ]
        },
        {
            "cell_type": "code",
            "execution_count": 51,
            "metadata": {},
            "outputs": [],
            "source": [
                "filename = \"./input_1.txt\"\n",
                "\n",
                "with open(file=filename) as f:\n",
                "    input_data_pt1 = f.read().splitlines()\n",
                "\n",
                "empty_indices = [i for i, _ in enumerate(input_data_pt1) if _ == \"\"]\n",
                "terrain = [input_data_pt1[i+1:j] for i, j in zip([-1]+empty_indices, empty_indices+[len(input_data_pt1)])]"
            ]
        },
        {
            "attachments": {},
            "cell_type": "markdown",
            "metadata": {},
            "source": [
                "# Pt. 1"
            ]
        },
        {
            "cell_type": "code",
            "execution_count": 52,
            "metadata": {},
            "outputs": [],
            "source": [
                "def find_mirror(field: list[str]) -> int:\n",
                "    for index in range(1,len(field)):\n",
                "        if all(field[index-1-j] == field[index+j] for j in range(min(index, len(field)-index))):\n",
                "            return index \n",
                "    return 0\n",
                "        \n",
                "def field_summary(field: [list[str]]) -> int:\n",
                "    horizontal_mirror = find_mirror(field=field)\n",
                "    vertical_mirror = find_mirror(field=[''.join(s) for s in zip(*field)])\n",
                "    return 100*horizontal_mirror + vertical_mirror"
            ]
        },
        {
            "cell_type": "code",
            "execution_count": 53,
            "metadata": {},
            "outputs": [
                {
                    "data": {
                        "text/plain": [
                            "32035"
                        ]
                    },
                    "execution_count": 53,
                    "metadata": {},
                    "output_type": "execute_result"
                }
            ],
            "source": [
                "summaries = []\n",
                "for field in terrain:\n",
                "    summaries.append(field_summary(field=field))\n",
                "\n",
                "sum(summaries)"
            ]
        },
        {
            "attachments": {},
            "cell_type": "markdown",
            "metadata": {},
            "source": [
                "# Pt. 2"
            ]
        },
        {
            "cell_type": "code",
            "execution_count": 54,
            "metadata": {},
            "outputs": [],
            "source": [
                "def find_smudged_mirror(field: list[str]) -> int:\n",
                "    for index in range(1,len(field)):\n",
                "        total_differences = sum([field[index-1-j][k] != field[index+j][k] for j in range(min(index, len(field)-index)) for k in range(len(field[0]))])\n",
                "        if total_differences == 1:\n",
                "            return index \n",
                "    return 0\n",
                "\n",
                "def smudged_field_summary(field: list[str]) -> int:\n",
                "    horizontal_mirror = find_smudged_mirror(field=field)\n",
                "    vertical_mirror = find_smudged_mirror(field=[''.join(s) for s in zip(*field)])\n",
                "    return 100*horizontal_mirror + vertical_mirror"
            ]
        },
        {
            "cell_type": "code",
            "execution_count": 55,
            "metadata": {},
            "outputs": [
                {
                    "data": {
                        "text/plain": [
                            "24847"
                        ]
                    },
                    "execution_count": 55,
                    "metadata": {},
                    "output_type": "execute_result"
                }
            ],
            "source": [
                "summaries = []\n",
                "for field in terrain:\n",
                "    summaries.append(smudged_field_summary(field=field))\n",
                "\n",
                "sum(summaries)"
            ]
        },
        {
            "cell_type": "code",
            "execution_count": null,
            "metadata": {},
            "outputs": [],
            "source": []
        }
    ],
    "metadata": {
        "kernelspec": {
            "display_name": "Python 3",
            "language": "python",
            "name": "python3"
        },
        "language_info": {
            "codemirror_mode": {
                "name": "ipython",
                "version": 3
            },
            "file_extension": ".py",
            "mimetype": "text/x-python",
            "name": "python",
            "nbconvert_exporter": "python",
            "pygments_lexer": "ipython3",
            "version": "3.11.5"
        },
        "orig_nbformat": 4,
        "vscode": {
            "interpreter": {
                "hash": "412a67843bc730569eb6291c88878232ac2ff4005175d04214c4619cd3565889"
            }
        }
    },
    "nbformat": 4,
    "nbformat_minor": 2
}
