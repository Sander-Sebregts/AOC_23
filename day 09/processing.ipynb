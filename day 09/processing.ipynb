{
    "cells": [
        {
            "attachments": {},
            "cell_type": "markdown",
            "metadata": {},
            "source": [
                "# Init stuffs"
            ]
        },
        {
            "attachments": {},
            "cell_type": "markdown",
            "metadata": {},
            "source": [
                "### Imports"
            ]
        },
        {
            "cell_type": "code",
            "execution_count": 2,
            "metadata": {},
            "outputs": [],
            "source": [
                "import numpy as np"
            ]
        },
        {
            "attachments": {},
            "cell_type": "markdown",
            "metadata": {},
            "source": [
                "### Input data"
            ]
        },
        {
            "cell_type": "code",
            "execution_count": 52,
            "metadata": {},
            "outputs": [],
            "source": [
                "filename = \"./input_1.txt\"\n",
                "\n",
                "with open(file=filename) as f:\n",
                "    input_data_pt1 = f.read().splitlines()"
            ]
        },
        {
            "attachments": {},
            "cell_type": "markdown",
            "metadata": {},
            "source": [
                "# Pt. 1"
            ]
        },
        {
            "cell_type": "code",
            "execution_count": 76,
            "metadata": {},
            "outputs": [],
            "source": [
                "def extrapolate(number_list: list) -> tuple[int, list]:\n",
                "    sequence = [number_list]\n",
                "    i = 0\n",
                "    while not all(n==0 for n in sequence[i]):\n",
                "        sequence.append(list(np.diff(sequence[i])))\n",
                "        i += 1\n",
                "\n",
                "    for j in range(len(sequence)):\n",
                "        sequence_index = len(sequence) - j - 1 # reverse because we want to go bottom-up\n",
                "        if j == 0:\n",
                "            continue\n",
                "        else:\n",
                "            sequence[sequence_index].append(\n",
                "                sequence[sequence_index][-1] + sequence[sequence_index + 1][-1]\n",
                "            )\n",
                "    return (sequence[0][-1], sequence)"
            ]
        },
        {
            "cell_type": "code",
            "execution_count": 77,
            "metadata": {},
            "outputs": [
                {
                    "name": "stdout",
                    "output_type": "stream",
                    "text": [
                        "1708206096\n"
                    ]
                }
            ],
            "source": [
                "line_extraplations = []\n",
                "line_explanations = []\n",
                "\n",
                "for line in input_data_pt1:\n",
                "    values = [int(n) for n in line.split()]\n",
                "    next_value, full_explanation = extrapolate(values)\n",
                "    line_explanations.append(full_explanation)\n",
                "    line_extraplations.append(next_value)\n",
                "\n",
                "print(sum(line_extraplations))"
            ]
        },
        {
            "attachments": {},
            "cell_type": "markdown",
            "metadata": {},
            "source": [
                "# Pt. 2"
            ]
        },
        {
            "cell_type": "code",
            "execution_count": 81,
            "metadata": {},
            "outputs": [],
            "source": [
                "def backwards_extrapolate(number_list: list) -> tuple[int, list]:\n",
                "    sequence = [number_list]\n",
                "    i = 0\n",
                "    while not all(n == 0 for n in sequence[i]):\n",
                "        sequence.append(list(np.diff(sequence[i])))\n",
                "        i += 1\n",
                "\n",
                "    for j in range(len(sequence)):\n",
                "        sequence_index = (\n",
                "            len(sequence) - j - 1\n",
                "        )  # reverse because we want to go bottom-up\n",
                "        if j == 0:\n",
                "            continue\n",
                "        else: # totally not hacky because lazy\n",
                "            sequence[sequence_index].append(\n",
                "                sequence[sequence_index][0] - sequence[sequence_index + 1][-1]\n",
                "            )\n",
                "    return (sequence[0][-1], sequence)"
            ]
        },
        {
            "cell_type": "code",
            "execution_count": 82,
            "metadata": {},
            "outputs": [
                {
                    "name": "stdout",
                    "output_type": "stream",
                    "text": [
                        "1050\n"
                    ]
                }
            ],
            "source": [
                "line_extraplations_2 = []\n",
                "line_explanations_2 = []\n",
                "\n",
                "for line in input_data_pt1:\n",
                "    values = [int(n) for n in line.split()]\n",
                "    next_value, full_explanation = backwards_extrapolate(values)\n",
                "    line_explanations_2.append(full_explanation)\n",
                "    line_extraplations_2.append(next_value)\n",
                "\n",
                "print(sum(line_extraplations_2))"
            ]
        },
        {
            "cell_type": "code",
            "execution_count": null,
            "metadata": {},
            "outputs": [],
            "source": []
        }
    ],
    "metadata": {
        "kernelspec": {
            "display_name": "Python 3",
            "language": "python",
            "name": "python3"
        },
        "language_info": {
            "codemirror_mode": {
                "name": "ipython",
                "version": 3
            },
            "file_extension": ".py",
            "mimetype": "text/x-python",
            "name": "python",
            "nbconvert_exporter": "python",
            "pygments_lexer": "ipython3",
            "version": "3.9.6"
        },
        "orig_nbformat": 4,
        "vscode": {
            "interpreter": {
                "hash": "412a67843bc730569eb6291c88878232ac2ff4005175d04214c4619cd3565889"
            }
        }
    },
    "nbformat": 4,
    "nbformat_minor": 2
}
