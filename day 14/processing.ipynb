{
    "cells": [
        {
            "attachments": {},
            "cell_type": "markdown",
            "metadata": {},
            "source": [
                "# Init stuffs"
            ]
        },
        {
            "cell_type": "markdown",
            "metadata": {},
            "source": [
                "### Imports"
            ]
        },
        {
            "cell_type": "code",
            "execution_count": 1,
            "metadata": {},
            "outputs": [],
            "source": [
                "from copy import deepcopy\n",
                "from functools import lru_cache"
            ]
        },
        {
            "attachments": {},
            "cell_type": "markdown",
            "metadata": {},
            "source": [
                "### Input data"
            ]
        },
        {
            "cell_type": "code",
            "execution_count": 2,
            "metadata": {},
            "outputs": [],
            "source": [
                "filename = \"./input_1.txt\"\n",
                "\n",
                "with open(file=filename) as f:\n",
                "    file_contents = f.read().splitlines()\n",
                "input_data_pt_1 = [[x for x in line] for line in file_contents]"
            ]
        },
        {
            "cell_type": "code",
            "execution_count": 3,
            "metadata": {},
            "outputs": [],
            "source": [
                "filename = \"./input_2.txt\"\n",
                "\n",
                "with open(file=filename) as f:\n",
                "    file_contents = f.read().splitlines()\n",
                "test_data = [[x for x in line] for line in file_contents]"
            ]
        },
        {
            "attachments": {},
            "cell_type": "markdown",
            "metadata": {},
            "source": [
                "# Pt. 1"
            ]
        },
        {
            "cell_type": "code",
            "execution_count": 4,
            "metadata": {},
            "outputs": [],
            "source": [
                "def tilt_dish_north(dish: list[list[str]]) -> list[list[str]]:\n",
                "    for row_index in range(1,len(dish)):\n",
                "        for col_index in range(len(dish[0])):\n",
                "            for j in range(row_index):\n",
                "                if dish[row_index-j][col_index] == \"O\" and dish[row_index-j-1][col_index] == \".\":\n",
                "                    dish[row_index-j-1][col_index] = \"O\"\n",
                "                    dish[row_index-j][col_index] = \".\"\n",
                "    return dish\n",
                "\n",
                "def calculate_load(dish: list[list[str]]) -> tuple[int, list]:\n",
                "    total_load = []\n",
                "    for row_index, row in enumerate(dish):\n",
                "        total_load.append(sum([1 for x in row if x == \"O\"])*(len(dish)-row_index))\n",
                "    return (sum(total_load), total_load)"
            ]
        },
        {
            "cell_type": "code",
            "execution_count": 5,
            "metadata": {},
            "outputs": [
                {
                    "name": "stdout",
                    "output_type": "stream",
                    "text": [
                        "108857\n"
                    ]
                }
            ],
            "source": [
                "dish = deepcopy(input_data_pt_1)\n",
                "tilted_dish = tilt_dish_north(dish=dish)\n",
                "load, load_explanation = calculate_load(dish=tilted_dish)\n",
                "print(load)"
            ]
        },
        {
            "attachments": {},
            "cell_type": "markdown",
            "metadata": {},
            "source": [
                "# Pt. 2"
            ]
        },
        {
            "cell_type": "code",
            "execution_count": 6,
            "metadata": {},
            "outputs": [],
            "source": [
                "def tilt_dish(dish: tuple[tuple[str]]) -> tuple[tuple[str]]:\n",
                "    for row_index in range(1,len(dish)):\n",
                "        for col_index in range(len(dish[0])):\n",
                "            for j in range(row_index):\n",
                "                if dish[row_index-j][col_index] == \"O\" and dish[row_index-j-1][col_index] == \".\":\n",
                "                    dish = (\n",
                "                        dish[:row_index-j-1] +\n",
                "                        (dish[row_index-j-1][:col_index] + (\"O\",) + dish[row_index-j-1][col_index+1:],) +\n",
                "                        (dish[row_index-j][:col_index] + (\".\",) + dish[row_index-j][col_index+1:],) +\n",
                "                        dish[row_index-j+1:]\n",
                "                        )\n",
                "    return dish\n",
                "\n",
                "def rotate_dish_clockwise_tuple(dish: tuple[tuple[str]]) -> tuple[tuple[str]]:\n",
                "    return tuple([tuple(row) for row in zip(*reversed(dish))])\n",
                "\n",
                "@lru_cache\n",
                "def tilt_dish_round_tuple(dish: tuple[tuple[str]]) -> tuple[tuple[str]]:\n",
                "    for _ in range(4):\n",
                "        dish = tilt_dish(dish=dish)\n",
                "        dish = rotate_dish_clockwise_tuple(dish=dish)\n",
                "    return dish\n",
                "\n",
                "@lru_cache\n",
                "def calculate_load_tuple(dish: tuple[tuple[str]]) -> tuple[int, list]:\n",
                "    total_load = []\n",
                "    for row_index, row in enumerate(dish):\n",
                "        total_load.append(sum([1 for x in row if x == \"O\"])*(len(dish)-row_index))\n",
                "    return (sum(total_load), total_load)"
            ]
        },
        {
            "cell_type": "code",
            "execution_count": 7,
            "metadata": {},
            "outputs": [],
            "source": [
                "dish2 = deepcopy(input_data_pt_1)\n",
                "dish2_tuple = tuple([tuple(row) for row in dish2])\n",
                "\n",
                "n_loops = 200\n",
                "\n",
                "loads = []\n",
                "for i in range(n_loops):\n",
                "    dish2_tuple = tilt_dish_round_tuple(dish=dish2_tuple)\n",
                "    load, load_explanation = calculate_load_tuple(dish=dish2_tuple)\n",
                "    loads.append(load)\n"
            ]
        },
        {
            "cell_type": "code",
            "execution_count": 8,
            "metadata": {},
            "outputs": [
                {
                    "data": {
                        "text/plain": [
                            "95273"
                        ]
                    },
                    "execution_count": 8,
                    "metadata": {},
                    "output_type": "execute_result"
                }
            ],
            "source": [
                "repeat_length = 14\n",
                "target = 1000000000\n",
                "\n",
                "loads[target - (target//repeat_length-10)*repeat_length-1]"
            ]
        },
        {
            "cell_type": "code",
            "execution_count": null,
            "metadata": {},
            "outputs": [],
            "source": []
        }
    ],
    "metadata": {
        "kernelspec": {
            "display_name": "Python 3",
            "language": "python",
            "name": "python3"
        },
        "language_info": {
            "codemirror_mode": {
                "name": "ipython",
                "version": 3
            },
            "file_extension": ".py",
            "mimetype": "text/x-python",
            "name": "python",
            "nbconvert_exporter": "python",
            "pygments_lexer": "ipython3",
            "version": "3.11.5"
        },
        "orig_nbformat": 4,
        "vscode": {
            "interpreter": {
                "hash": "412a67843bc730569eb6291c88878232ac2ff4005175d04214c4619cd3565889"
            }
        }
    },
    "nbformat": 4,
    "nbformat_minor": 2
}
