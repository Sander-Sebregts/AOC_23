{
    "cells": [
        {
            "attachments": {},
            "cell_type": "markdown",
            "metadata": {},
            "source": [
                "# Init stuffs"
            ]
        },
        {
            "attachments": {},
            "cell_type": "markdown",
            "metadata": {},
            "source": [
                "### Input data"
            ]
        },
        {
            "cell_type": "code",
            "execution_count": 1,
            "metadata": {},
            "outputs": [],
            "source": [
                "filename = \"./input_1.txt\"\n",
                "test_filename = \"./input_2.txt\"\n",
                "\n",
                "with open(file=filename) as f:\n",
                "    data = f.read().splitlines()\n",
                "\n",
                "with open(file=test_filename) as f:\n",
                "    test_data = f.read().splitlines()"
            ]
        },
        {
            "attachments": {},
            "cell_type": "markdown",
            "metadata": {},
            "source": [
                "# Pt. 1"
            ]
        },
        {
            "cell_type": "code",
            "execution_count": 2,
            "metadata": {},
            "outputs": [],
            "source": [
                "def init_structs(bricks_list: list[list[str]]) -> tuple[dict,tuple[int]]:\n",
                "    bricks = {} # number: {start_position, final_position, supported_by, supports}\n",
                "    max_x = 0\n",
                "    max_y = 0\n",
                "    max_z = 0\n",
                "\n",
                "    for index, brick in enumerate(bricks_list):\n",
                "        x1, y1, z1 = brick.split(\"~\")[0].split(\",\")\n",
                "        x2, y2, z2 = brick.split(\"~\")[1].split(\",\")\n",
                "\n",
                "        max_x = max(max_x, int(x2))\n",
                "        max_y = max(max_y, int(y2))\n",
                "        max_z = max(max_z, int(z2))\n",
                "\n",
                "        brick_coords = [(x, y ,z) for x in range(int(x1), int(x2)+1) for y in range(int(y1), int(y2)+1) for z in range(int(z1), int(z2)+1)]\n",
                "        bricks[index] = {\"start_position\": brick_coords, \"final_position\": [], \"supported_by\": [], \"supports\": []}\n",
                "\n",
                "    return (bricks,(max_x, max_y, max_z))\n",
                "\n",
                "def drop_blocks(bricks: list[list[str]], grid_dimensions: tuple[int]) -> tuple[dict, dict]:\n",
                "    filled_grid = {(x, y): {\"z\": 0, \"brick\": -1} for x in range(grid_dimensions[0]+1) for y in range(grid_dimensions[1]+1)}\n",
                "\n",
                "    falling_bricks = bricks.copy()\n",
                "\n",
                "    while falling_bricks:\n",
                "        min_z = min([min([item[2] for item in brick[\"start_position\"]]) for brick in falling_bricks.values()])\n",
                "        lowest_bricks = [k for k, v in falling_bricks.items() if v[\"start_position\"][0][2] == min_z]\n",
                "\n",
                "        for brick_id in lowest_bricks:\n",
                "            brick = falling_bricks.pop(brick_id)\n",
                "            bricks_below = [filled_grid[(x,y)] for x,y,_ in brick[\"start_position\"]]\n",
                "            max_z_below = max([z[\"z\"] for z in bricks_below])\n",
                "            supported_by = set([support[\"brick\"] for support in bricks_below if support[\"z\"]==max_z_below])\n",
                "            dz = min_z - max_z_below - 1\n",
                "            for coord in brick[\"start_position\"]:\n",
                "                bricks[brick_id][\"final_position\"].append((*coord[:2],coord[2]-dz))\n",
                "                filled_grid[(coord[:2])] = {\"z\": coord[2]-dz, \"brick\":brick_id}\n",
                "            bricks[brick_id][\"supported_by\"] = supported_by\n",
                "            for support in supported_by:\n",
                "                if support != -1:\n",
                "                    bricks[support][\"supports\"].append(brick_id)\n",
                "    return bricks, filled_grid\n",
                "\n",
                "def find_removable(bricks: dict) -> list:\n",
                "    removable = []\n",
                "    for k, v in bricks.items():\n",
                "        supporting = v[\"supports\"]\n",
                "        if all([len(bricks[higher_brick][\"supported_by\"]) > 1 for higher_brick in supporting]):\n",
                "            removable.append(k)\n",
                "    return removable\n"
            ]
        },
        {
            "cell_type": "code",
            "execution_count": 3,
            "metadata": {},
            "outputs": [
                {
                    "data": {
                        "text/plain": [
                            "454"
                        ]
                    },
                    "execution_count": 3,
                    "metadata": {},
                    "output_type": "execute_result"
                }
            ],
            "source": [
                "bricks_list = data\n",
                "bricks, grid_dimensions = init_structs(bricks_list=bricks_list)\n",
                "bricks, filled_grid = drop_blocks(bricks=bricks, grid_dimensions=grid_dimensions)\n",
                "len(find_removable(bricks=bricks))"
            ]
        },
        {
            "attachments": {},
            "cell_type": "markdown",
            "metadata": {},
            "source": [
                "# Pt. 2"
            ]
        },
        {
            "cell_type": "code",
            "execution_count": 4,
            "metadata": {},
            "outputs": [],
            "source": [
                "def remove_chain(bricks: list[list[str]]) -> int:\n",
                "    chained_falls = 0\n",
                "    for k, v in bricks.items():\n",
                "        falling = set([k])\n",
                "        actively_falling = [k]\n",
                "        while actively_falling:\n",
                "            currently_falling = actively_falling.pop()\n",
                "            supporting = bricks[currently_falling][\"supports\"]\n",
                "            for higher_brick in supporting:\n",
                "                supporting_bricks = bricks[higher_brick][\"supported_by\"]\n",
                "                if supporting_bricks.issubset(falling):\n",
                "                    if higher_brick not in falling:\n",
                "                        falling.add(higher_brick)\n",
                "                        actively_falling.append(higher_brick)\n",
                "        chained_falls += len(falling)-1\n",
                "    return chained_falls"
            ]
        },
        {
            "cell_type": "code",
            "execution_count": 5,
            "metadata": {},
            "outputs": [
                {
                    "data": {
                        "text/plain": [
                            "74287"
                        ]
                    },
                    "execution_count": 5,
                    "metadata": {},
                    "output_type": "execute_result"
                }
            ],
            "source": [
                "bricks_list = data\n",
                "bricks, grid_dimensions = init_structs(bricks_list=bricks_list)\n",
                "bricks, filled_grid = drop_blocks(bricks=bricks, grid_dimensions=grid_dimensions)\n",
                "remove_chain(bricks=bricks)"
            ]
        },
        {
            "cell_type": "code",
            "execution_count": null,
            "metadata": {},
            "outputs": [],
            "source": []
        }
    ],
    "metadata": {
        "kernelspec": {
            "display_name": "Python 3",
            "language": "python",
            "name": "python3"
        },
        "language_info": {
            "codemirror_mode": {
                "name": "ipython",
                "version": 3
            },
            "file_extension": ".py",
            "mimetype": "text/x-python",
            "name": "python",
            "nbconvert_exporter": "python",
            "pygments_lexer": "ipython3",
            "version": "3.11.5"
        },
        "orig_nbformat": 4,
        "vscode": {
            "interpreter": {
                "hash": "412a67843bc730569eb6291c88878232ac2ff4005175d04214c4619cd3565889"
            }
        }
    },
    "nbformat": 4,
    "nbformat_minor": 2
}
